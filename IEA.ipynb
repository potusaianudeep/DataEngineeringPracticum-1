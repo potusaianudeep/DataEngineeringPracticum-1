{
 "cells": [
  {
   "cell_type": "code",
   "execution_count": 1,
   "metadata": {
    "colab": {
     "base_uri": "https://localhost:8080/"
    },
    "id": "PI56H5pVXnB4",
    "outputId": "89ac012d-3c6c-4342-d5f8-799816438a28"
   },
   "outputs": [
    {
     "name": "stdout",
     "output_type": "stream",
     "text": [
      "Collecting pyxlsb\n",
      "  Downloading pyxlsb-1.0.10-py2.py3-none-any.whl (23 kB)\n",
      "Installing collected packages: pyxlsb\n",
      "Successfully installed pyxlsb-1.0.10\n"
     ]
    }
   ],
   "source": [
    "!pip install pyxlsb"
   ]
  },
  {
   "cell_type": "code",
   "execution_count": null,
   "metadata": {
    "id": "0Flkkc_zX4J0"
   },
   "outputs": [],
   "source": [
    "import pandas as pd\n",
    "import numpy as np\n",
    "import pyxlsb"
   ]
  },
  {
   "cell_type": "code",
   "execution_count": null,
   "metadata": {
    "id": "D89M7_X1YHOT"
   },
   "outputs": [],
   "source": [
    "#Reading the Energy data\n",
    "residential_energy = pd.read_excel(\"/content/iea.xlsb\",engine=\"pyxlsb\",sheet_name=\"Residential - Energy\",skiprows=1)\n",
    "services_energy = pd.read_excel(\"/content/iea.xlsb\",engine=\"pyxlsb\",sheet_name=\"Services - Energy\",skiprows=1)\n",
    "industrial_energy =pd.read_excel(\"/content/iea.xlsb\",engine=\"pyxlsb\",sheet_name=\"Industry - Energy\",skiprows=1)\n",
    "transport_energy = pd.read_excel(\"/content/iea.xlsb\",engine=\"pyxlsb\",sheet_name=\"Transport - Energy\",skiprows=1)"
   ]
  },
  {
   "cell_type": "code",
   "execution_count": null,
   "metadata": {
    "id": "G818LPrUolJZ"
   },
   "outputs": [],
   "source": [
    "#Reading the Energy Indicators data\n",
    "residential_ei = pd.read_excel(\"/content/iea.xlsb\",engine=\"pyxlsb\",sheet_name=\"Residential - Energy Indicators\",skiprows=1)\n",
    "services_ei= pd.read_excel(\"/content/iea.xlsb\",engine=\"pyxlsb\",sheet_name=\"Services - Energy Indicators\",skiprows=1)\n",
    "industrial_ei =pd.read_excel(\"/content/iea.xlsb\",engine=\"pyxlsb\",sheet_name=\"Industry - Energy Indicators\",skiprows=1)\n",
    "transport_ei = pd.read_excel(\"/content/iea.xlsb\",engine=\"pyxlsb\",sheet_name=\"Transport - Energy Indicators\",skiprows=1)"
   ]
  },
  {
   "cell_type": "code",
   "execution_count": null,
   "metadata": {
    "id": "GQKiROvvpLMi"
   },
   "outputs": [],
   "source": [
    "#Reading the Emissions data\n",
    "residential_emissions = pd.read_excel(\"/content/iea.xlsb\",engine=\"pyxlsb\",sheet_name=\"Residential - Emissions\",skiprows=1)\n",
    "services_emissions= pd.read_excel(\"/content/iea.xlsb\",engine=\"pyxlsb\",sheet_name=\"Services - Emissions\",skiprows=1)\n",
    "industrial_emissions =pd.read_excel(\"/content/iea.xlsb\",engine=\"pyxlsb\",sheet_name=\"Industry - Emissions\",skiprows=1)\n",
    "transport_emissions = pd.read_excel(\"/content/iea.xlsb\",engine=\"pyxlsb\",sheet_name=\"Transport - Emissions\",skiprows=1)"
   ]
  },
  {
   "cell_type": "code",
   "execution_count": null,
   "metadata": {
    "id": "NvoCSUJkpLCe"
   },
   "outputs": [],
   "source": [
    "#Reading the Carbon Indicators data\n",
    "residential_ci = pd.read_excel(\"/content/iea.xlsb\",engine=\"pyxlsb\",sheet_name=\"Residential - Carbon Indicators\",skiprows=1)\n",
    "services_ci= pd.read_excel(\"/content/iea.xlsb\",engine=\"pyxlsb\",sheet_name=\"Services - Carbon Indicators\",skiprows=1)\n",
    "industrial_ci =pd.read_excel(\"/content/iea.xlsb\",engine=\"pyxlsb\",sheet_name=\"Industry - Carbon Indicators\",skiprows=1)\n",
    "transport_ci = pd.read_excel(\"/content/iea.xlsb\",engine=\"pyxlsb\",sheet_name=\"Transport - Carbon Indicators\",skiprows=1)"
   ]
  },
  {
   "cell_type": "code",
   "execution_count": null,
   "metadata": {
    "id": "RsPCUNedo6m0"
   },
   "outputs": [],
   "source": [
    "#List of datasets\n",
    "energy_datasets = [residential_energy,services_energy,industrial_energy,transport_energy]\n",
    "energy_indicators_datasets = [residential_ei,services_ei,industrial_ei,transport_ei]\n",
    "emission_datasets = [residential_emissions,services_emissions,industrial_emissions,transport_emissions]\n",
    "carbon_indicators_datasets = [residential_ci,services_ci,industrial_ci,transport_ci]"
   ]
  },
  {
   "cell_type": "code",
   "execution_count": 100,
   "metadata": {
    "id": "cfUMJ87E6ZAi"
   },
   "outputs": [],
   "source": [
    "#List of all the datasets\n",
    "sheets=[\"residential_energy\",\"services_energy\",\"industrial_energy\",\"transport_energy\",\"residential_ei\",\"services_ei\",\"industrial_ei\",\"transport_ei\",\n",
    "          \"residential_emissions\",\"services_emissions\",\"industrial_emissions\",\"transport_emissions\",\"residential_ci\",\"services_ci\",\"industrial_ci\",\"transport_ci\"]\n",
    "\n",
    "all_data=[residential_energy,services_energy,industrial_energy,transport_energy,residential_ei,services_ei,industrial_ei,transport_ei,\n",
    "          residential_emissions,services_emissions,industrial_emissions,transport_emissions,residential_ci,services_ci,industrial_ci,transport_ci]"
   ]
  },
  {
   "cell_type": "code",
   "execution_count": 103,
   "metadata": {
    "colab": {
     "base_uri": "https://localhost:8080/"
    },
    "id": "RWM7uq9CU9N4",
    "outputId": "27aa0948-7281-4aed-e28d-633caa78ed21"
   },
   "outputs": [
    {
     "name": "stdout",
     "output_type": "stream",
     "text": [
      "residential_energy:  57\n",
      "services_energy:  57\n",
      "industrial_energy:  61\n",
      "transport_energy:  60\n",
      "residential_ei:  57\n",
      "services_ei:  57\n",
      "industrial_ei:  61\n",
      "transport_ei:  60\n",
      "residential_emissions:  57\n",
      "services_emissions:  57\n",
      "industrial_emissions:  61\n",
      "transport_emissions:  60\n",
      "residential_ci:  57\n",
      "services_ci:  57\n",
      "industrial_ci:  61\n",
      "transport_ci:  60\n"
     ]
    }
   ],
   "source": [
    "#Number of unique countries in each dataset\n",
    "n=0\n",
    "for i in all_data:\n",
    "  sheet = sheets[n]\n",
    "  print(f\"{sheet}: \",i['Country'].nunique())\n",
    "  n+=1"
   ]
  },
  {
   "cell_type": "code",
   "execution_count": null,
   "metadata": {
    "id": "RdX-63suq_Qy"
   },
   "outputs": [],
   "source": [
    "#Making country dim table : Get all the countries to one single list and drop duplicates\n",
    "def country_dim(dataset_list):\n",
    "  countries = []\n",
    "  for data in dataset_list:\n",
    "      countries.extend(data['Country'].unique())\n",
    "  temp=pd.DataFrame({\"Country\":countries})\n",
    "  temp = temp.drop_duplicates().reset_index()\n",
    "  temp = temp.drop(\"index\",axis=1)\n",
    "  return temp"
   ]
  },
  {
   "cell_type": "code",
   "execution_count": null,
   "metadata": {
    "id": "tL5P7fTosnK1"
   },
   "outputs": [],
   "source": [
    "#for data_list in [energy_datasets,energy_indicators_datasets,carbon_indicators_datasets,emission_datasets]:\n",
    "energy_countries = country_dim(energy_datasets)\n",
    "emission_countries = country_dim(emission_datasets)\n",
    "energy_indicator_countries = country_dim(energy_indicators_datasets)\n",
    "carbon_indicator_countries = country_dim(carbon_indicators_datasets)"
   ]
  },
  {
   "cell_type": "code",
   "execution_count": null,
   "metadata": {
    "colab": {
     "base_uri": "https://localhost:8080/",
     "height": 419
    },
    "id": "vsBV89V7wTPp",
    "outputId": "9f1a155e-087a-418c-8509-f0ec7f88385e"
   },
   "outputs": [
    {
     "data": {
      "text/html": [
       "\n",
       "  <div id=\"df-f7d1c51c-eaf2-4580-bbb4-aea4d4cd55ed\">\n",
       "    <div class=\"colab-df-container\">\n",
       "      <div>\n",
       "<style scoped>\n",
       "    .dataframe tbody tr th:only-of-type {\n",
       "        vertical-align: middle;\n",
       "    }\n",
       "\n",
       "    .dataframe tbody tr th {\n",
       "        vertical-align: top;\n",
       "    }\n",
       "\n",
       "    .dataframe thead th {\n",
       "        text-align: right;\n",
       "    }\n",
       "</style>\n",
       "<table border=\"1\" class=\"dataframe\">\n",
       "  <thead>\n",
       "    <tr style=\"text-align: right;\">\n",
       "      <th></th>\n",
       "      <th>Country</th>\n",
       "    </tr>\n",
       "  </thead>\n",
       "  <tbody>\n",
       "    <tr>\n",
       "      <th>0</th>\n",
       "      <td>Australia</td>\n",
       "    </tr>\n",
       "    <tr>\n",
       "      <th>1</th>\n",
       "      <td>Austria</td>\n",
       "    </tr>\n",
       "    <tr>\n",
       "      <th>2</th>\n",
       "      <td>Belgium</td>\n",
       "    </tr>\n",
       "    <tr>\n",
       "      <th>3</th>\n",
       "      <td>Canada</td>\n",
       "    </tr>\n",
       "    <tr>\n",
       "      <th>4</th>\n",
       "      <td>Czech Republic</td>\n",
       "    </tr>\n",
       "    <tr>\n",
       "      <th>...</th>\n",
       "      <td>...</td>\n",
       "    </tr>\n",
       "    <tr>\n",
       "      <th>56</th>\n",
       "      <td>Uruguay</td>\n",
       "    </tr>\n",
       "    <tr>\n",
       "      <th>57</th>\n",
       "      <td>Armenia</td>\n",
       "    </tr>\n",
       "    <tr>\n",
       "      <th>58</th>\n",
       "      <td>Kazakhstan</td>\n",
       "    </tr>\n",
       "    <tr>\n",
       "      <th>59</th>\n",
       "      <td>Kyrgyzstan</td>\n",
       "    </tr>\n",
       "    <tr>\n",
       "      <th>60</th>\n",
       "      <td>Uzbekistan</td>\n",
       "    </tr>\n",
       "  </tbody>\n",
       "</table>\n",
       "<p>61 rows × 1 columns</p>\n",
       "</div>\n",
       "      <button class=\"colab-df-convert\" onclick=\"convertToInteractive('df-f7d1c51c-eaf2-4580-bbb4-aea4d4cd55ed')\"\n",
       "              title=\"Convert this dataframe to an interactive table.\"\n",
       "              style=\"display:none;\">\n",
       "        \n",
       "  <svg xmlns=\"http://www.w3.org/2000/svg\" height=\"24px\"viewBox=\"0 0 24 24\"\n",
       "       width=\"24px\">\n",
       "    <path d=\"M0 0h24v24H0V0z\" fill=\"none\"/>\n",
       "    <path d=\"M18.56 5.44l.94 2.06.94-2.06 2.06-.94-2.06-.94-.94-2.06-.94 2.06-2.06.94zm-11 1L8.5 8.5l.94-2.06 2.06-.94-2.06-.94L8.5 2.5l-.94 2.06-2.06.94zm10 10l.94 2.06.94-2.06 2.06-.94-2.06-.94-.94-2.06-.94 2.06-2.06.94z\"/><path d=\"M17.41 7.96l-1.37-1.37c-.4-.4-.92-.59-1.43-.59-.52 0-1.04.2-1.43.59L10.3 9.45l-7.72 7.72c-.78.78-.78 2.05 0 2.83L4 21.41c.39.39.9.59 1.41.59.51 0 1.02-.2 1.41-.59l7.78-7.78 2.81-2.81c.8-.78.8-2.07 0-2.86zM5.41 20L4 18.59l7.72-7.72 1.47 1.35L5.41 20z\"/>\n",
       "  </svg>\n",
       "      </button>\n",
       "      \n",
       "  <style>\n",
       "    .colab-df-container {\n",
       "      display:flex;\n",
       "      flex-wrap:wrap;\n",
       "      gap: 12px;\n",
       "    }\n",
       "\n",
       "    .colab-df-convert {\n",
       "      background-color: #E8F0FE;\n",
       "      border: none;\n",
       "      border-radius: 50%;\n",
       "      cursor: pointer;\n",
       "      display: none;\n",
       "      fill: #1967D2;\n",
       "      height: 32px;\n",
       "      padding: 0 0 0 0;\n",
       "      width: 32px;\n",
       "    }\n",
       "\n",
       "    .colab-df-convert:hover {\n",
       "      background-color: #E2EBFA;\n",
       "      box-shadow: 0px 1px 2px rgba(60, 64, 67, 0.3), 0px 1px 3px 1px rgba(60, 64, 67, 0.15);\n",
       "      fill: #174EA6;\n",
       "    }\n",
       "\n",
       "    [theme=dark] .colab-df-convert {\n",
       "      background-color: #3B4455;\n",
       "      fill: #D2E3FC;\n",
       "    }\n",
       "\n",
       "    [theme=dark] .colab-df-convert:hover {\n",
       "      background-color: #434B5C;\n",
       "      box-shadow: 0px 1px 3px 1px rgba(0, 0, 0, 0.15);\n",
       "      filter: drop-shadow(0px 1px 2px rgba(0, 0, 0, 0.3));\n",
       "      fill: #FFFFFF;\n",
       "    }\n",
       "  </style>\n",
       "\n",
       "      <script>\n",
       "        const buttonEl =\n",
       "          document.querySelector('#df-f7d1c51c-eaf2-4580-bbb4-aea4d4cd55ed button.colab-df-convert');\n",
       "        buttonEl.style.display =\n",
       "          google.colab.kernel.accessAllowed ? 'block' : 'none';\n",
       "\n",
       "        async function convertToInteractive(key) {\n",
       "          const element = document.querySelector('#df-f7d1c51c-eaf2-4580-bbb4-aea4d4cd55ed');\n",
       "          const dataTable =\n",
       "            await google.colab.kernel.invokeFunction('convertToInteractive',\n",
       "                                                     [key], {});\n",
       "          if (!dataTable) return;\n",
       "\n",
       "          const docLinkHtml = 'Like what you see? Visit the ' +\n",
       "            '<a target=\"_blank\" href=https://colab.research.google.com/notebooks/data_table.ipynb>data table notebook</a>'\n",
       "            + ' to learn more about interactive tables.';\n",
       "          element.innerHTML = '';\n",
       "          dataTable['output_type'] = 'display_data';\n",
       "          await google.colab.output.renderOutput(dataTable, element);\n",
       "          const docLink = document.createElement('div');\n",
       "          docLink.innerHTML = docLinkHtml;\n",
       "          element.appendChild(docLink);\n",
       "        }\n",
       "      </script>\n",
       "    </div>\n",
       "  </div>\n",
       "  "
      ],
      "text/plain": [
       "           Country\n",
       "0        Australia\n",
       "1          Austria\n",
       "2          Belgium\n",
       "3           Canada\n",
       "4   Czech Republic\n",
       "..             ...\n",
       "56         Uruguay\n",
       "57         Armenia\n",
       "58      Kazakhstan\n",
       "59      Kyrgyzstan\n",
       "60      Uzbekistan\n",
       "\n",
       "[61 rows x 1 columns]"
      ]
     },
     "execution_count": 10,
     "metadata": {},
     "output_type": "execute_result"
    }
   ],
   "source": [
    "energy_countries"
   ]
  },
  {
   "cell_type": "code",
   "execution_count": null,
   "metadata": {
    "id": "_zK9hjt4u1De"
   },
   "outputs": [],
   "source": [
    "#countries_dim = pd.DataFrame(columns=['Country'])\n",
    "countries_dim = pd.concat([energy_countries,emission_countries,energy_indicator_countries,carbon_indicator_countries])\n",
    "countries_dim = countries_dim.drop_duplicates()\n",
    "num = 101+len(countries_dim)\n",
    "codes = list(range(101,num))\n",
    "countries_dim['country_code'] = codes"
   ]
  },
  {
   "cell_type": "code",
   "execution_count": null,
   "metadata": {
    "colab": {
     "base_uri": "https://localhost:8080/",
     "height": 419
    },
    "id": "QUtls4vVxSCn",
    "outputId": "7949f35e-c087-406f-93fc-8e262f572c57"
   },
   "outputs": [
    {
     "data": {
      "text/html": [
       "\n",
       "  <div id=\"df-d0acfb93-041d-460d-b688-9db339ae089a\">\n",
       "    <div class=\"colab-df-container\">\n",
       "      <div>\n",
       "<style scoped>\n",
       "    .dataframe tbody tr th:only-of-type {\n",
       "        vertical-align: middle;\n",
       "    }\n",
       "\n",
       "    .dataframe tbody tr th {\n",
       "        vertical-align: top;\n",
       "    }\n",
       "\n",
       "    .dataframe thead th {\n",
       "        text-align: right;\n",
       "    }\n",
       "</style>\n",
       "<table border=\"1\" class=\"dataframe\">\n",
       "  <thead>\n",
       "    <tr style=\"text-align: right;\">\n",
       "      <th></th>\n",
       "      <th>Country</th>\n",
       "      <th>country_code</th>\n",
       "    </tr>\n",
       "  </thead>\n",
       "  <tbody>\n",
       "    <tr>\n",
       "      <th>0</th>\n",
       "      <td>Australia</td>\n",
       "      <td>101</td>\n",
       "    </tr>\n",
       "    <tr>\n",
       "      <th>1</th>\n",
       "      <td>Austria</td>\n",
       "      <td>102</td>\n",
       "    </tr>\n",
       "    <tr>\n",
       "      <th>2</th>\n",
       "      <td>Belgium</td>\n",
       "      <td>103</td>\n",
       "    </tr>\n",
       "    <tr>\n",
       "      <th>3</th>\n",
       "      <td>Canada</td>\n",
       "      <td>104</td>\n",
       "    </tr>\n",
       "    <tr>\n",
       "      <th>4</th>\n",
       "      <td>Czech Republic</td>\n",
       "      <td>105</td>\n",
       "    </tr>\n",
       "    <tr>\n",
       "      <th>...</th>\n",
       "      <td>...</td>\n",
       "      <td>...</td>\n",
       "    </tr>\n",
       "    <tr>\n",
       "      <th>56</th>\n",
       "      <td>Uruguay</td>\n",
       "      <td>157</td>\n",
       "    </tr>\n",
       "    <tr>\n",
       "      <th>57</th>\n",
       "      <td>Armenia</td>\n",
       "      <td>158</td>\n",
       "    </tr>\n",
       "    <tr>\n",
       "      <th>58</th>\n",
       "      <td>Kazakhstan</td>\n",
       "      <td>159</td>\n",
       "    </tr>\n",
       "    <tr>\n",
       "      <th>59</th>\n",
       "      <td>Kyrgyzstan</td>\n",
       "      <td>160</td>\n",
       "    </tr>\n",
       "    <tr>\n",
       "      <th>60</th>\n",
       "      <td>Uzbekistan</td>\n",
       "      <td>161</td>\n",
       "    </tr>\n",
       "  </tbody>\n",
       "</table>\n",
       "<p>61 rows × 2 columns</p>\n",
       "</div>\n",
       "      <button class=\"colab-df-convert\" onclick=\"convertToInteractive('df-d0acfb93-041d-460d-b688-9db339ae089a')\"\n",
       "              title=\"Convert this dataframe to an interactive table.\"\n",
       "              style=\"display:none;\">\n",
       "        \n",
       "  <svg xmlns=\"http://www.w3.org/2000/svg\" height=\"24px\"viewBox=\"0 0 24 24\"\n",
       "       width=\"24px\">\n",
       "    <path d=\"M0 0h24v24H0V0z\" fill=\"none\"/>\n",
       "    <path d=\"M18.56 5.44l.94 2.06.94-2.06 2.06-.94-2.06-.94-.94-2.06-.94 2.06-2.06.94zm-11 1L8.5 8.5l.94-2.06 2.06-.94-2.06-.94L8.5 2.5l-.94 2.06-2.06.94zm10 10l.94 2.06.94-2.06 2.06-.94-2.06-.94-.94-2.06-.94 2.06-2.06.94z\"/><path d=\"M17.41 7.96l-1.37-1.37c-.4-.4-.92-.59-1.43-.59-.52 0-1.04.2-1.43.59L10.3 9.45l-7.72 7.72c-.78.78-.78 2.05 0 2.83L4 21.41c.39.39.9.59 1.41.59.51 0 1.02-.2 1.41-.59l7.78-7.78 2.81-2.81c.8-.78.8-2.07 0-2.86zM5.41 20L4 18.59l7.72-7.72 1.47 1.35L5.41 20z\"/>\n",
       "  </svg>\n",
       "      </button>\n",
       "      \n",
       "  <style>\n",
       "    .colab-df-container {\n",
       "      display:flex;\n",
       "      flex-wrap:wrap;\n",
       "      gap: 12px;\n",
       "    }\n",
       "\n",
       "    .colab-df-convert {\n",
       "      background-color: #E8F0FE;\n",
       "      border: none;\n",
       "      border-radius: 50%;\n",
       "      cursor: pointer;\n",
       "      display: none;\n",
       "      fill: #1967D2;\n",
       "      height: 32px;\n",
       "      padding: 0 0 0 0;\n",
       "      width: 32px;\n",
       "    }\n",
       "\n",
       "    .colab-df-convert:hover {\n",
       "      background-color: #E2EBFA;\n",
       "      box-shadow: 0px 1px 2px rgba(60, 64, 67, 0.3), 0px 1px 3px 1px rgba(60, 64, 67, 0.15);\n",
       "      fill: #174EA6;\n",
       "    }\n",
       "\n",
       "    [theme=dark] .colab-df-convert {\n",
       "      background-color: #3B4455;\n",
       "      fill: #D2E3FC;\n",
       "    }\n",
       "\n",
       "    [theme=dark] .colab-df-convert:hover {\n",
       "      background-color: #434B5C;\n",
       "      box-shadow: 0px 1px 3px 1px rgba(0, 0, 0, 0.15);\n",
       "      filter: drop-shadow(0px 1px 2px rgba(0, 0, 0, 0.3));\n",
       "      fill: #FFFFFF;\n",
       "    }\n",
       "  </style>\n",
       "\n",
       "      <script>\n",
       "        const buttonEl =\n",
       "          document.querySelector('#df-d0acfb93-041d-460d-b688-9db339ae089a button.colab-df-convert');\n",
       "        buttonEl.style.display =\n",
       "          google.colab.kernel.accessAllowed ? 'block' : 'none';\n",
       "\n",
       "        async function convertToInteractive(key) {\n",
       "          const element = document.querySelector('#df-d0acfb93-041d-460d-b688-9db339ae089a');\n",
       "          const dataTable =\n",
       "            await google.colab.kernel.invokeFunction('convertToInteractive',\n",
       "                                                     [key], {});\n",
       "          if (!dataTable) return;\n",
       "\n",
       "          const docLinkHtml = 'Like what you see? Visit the ' +\n",
       "            '<a target=\"_blank\" href=https://colab.research.google.com/notebooks/data_table.ipynb>data table notebook</a>'\n",
       "            + ' to learn more about interactive tables.';\n",
       "          element.innerHTML = '';\n",
       "          dataTable['output_type'] = 'display_data';\n",
       "          await google.colab.output.renderOutput(dataTable, element);\n",
       "          const docLink = document.createElement('div');\n",
       "          docLink.innerHTML = docLinkHtml;\n",
       "          element.appendChild(docLink);\n",
       "        }\n",
       "      </script>\n",
       "    </div>\n",
       "  </div>\n",
       "  "
      ],
      "text/plain": [
       "           Country  country_code\n",
       "0        Australia           101\n",
       "1          Austria           102\n",
       "2          Belgium           103\n",
       "3           Canada           104\n",
       "4   Czech Republic           105\n",
       "..             ...           ...\n",
       "56         Uruguay           157\n",
       "57         Armenia           158\n",
       "58      Kazakhstan           159\n",
       "59      Kyrgyzstan           160\n",
       "60      Uzbekistan           161\n",
       "\n",
       "[61 rows x 2 columns]"
      ]
     },
     "execution_count": 12,
     "metadata": {},
     "output_type": "execute_result"
    }
   ],
   "source": [
    "#Dim table for countries\n",
    "countries_dim"
   ]
  },
  {
   "cell_type": "code",
   "execution_count": null,
   "metadata": {
    "id": "Iu5cSWzSxvc9"
   },
   "outputs": [],
   "source": [
    "countries_dim.to_csv(\"dim_country.csv\")"
   ]
  },
  {
   "cell_type": "code",
   "execution_count": null,
   "metadata": {
    "colab": {
     "base_uri": "https://localhost:8080/"
    },
    "id": "n_Goak0EySRj",
    "outputId": "62449423-485f-4b95-8231-a5fec1c0328b"
   },
   "outputs": [
    {
     "data": {
      "text/plain": [
       "(798, 12)"
      ]
     },
     "execution_count": 14,
     "metadata": {},
     "output_type": "execute_result"
    }
   ],
   "source": [
    "residential_energy.shape"
   ]
  },
  {
   "cell_type": "code",
   "execution_count": null,
   "metadata": {
    "colab": {
     "base_uri": "https://localhost:8080/",
     "height": 463
    },
    "id": "I2Zvbm4n3tQS",
    "outputId": "432bfb2e-b5ea-4a62-cfe3-bbf93b378455"
   },
   "outputs": [
    {
     "data": {
      "text/html": [
       "\n",
       "  <div id=\"df-9ef85609-888f-4900-a083-c615a56532ab\">\n",
       "    <div class=\"colab-df-container\">\n",
       "      <div>\n",
       "<style scoped>\n",
       "    .dataframe tbody tr th:only-of-type {\n",
       "        vertical-align: middle;\n",
       "    }\n",
       "\n",
       "    .dataframe tbody tr th {\n",
       "        vertical-align: top;\n",
       "    }\n",
       "\n",
       "    .dataframe thead th {\n",
       "        text-align: right;\n",
       "    }\n",
       "</style>\n",
       "<table border=\"1\" class=\"dataframe\">\n",
       "  <thead>\n",
       "    <tr style=\"text-align: right;\">\n",
       "      <th></th>\n",
       "      <th>Country</th>\n",
       "      <th>End use</th>\n",
       "      <th>Product</th>\n",
       "      <th>2000</th>\n",
       "      <th>2005</th>\n",
       "      <th>2010</th>\n",
       "      <th>2015</th>\n",
       "      <th>2016</th>\n",
       "      <th>2017</th>\n",
       "      <th>2018</th>\n",
       "      <th>2019</th>\n",
       "      <th>2020</th>\n",
       "    </tr>\n",
       "  </thead>\n",
       "  <tbody>\n",
       "    <tr>\n",
       "      <th>0</th>\n",
       "      <td>Australia</td>\n",
       "      <td>Total Residential</td>\n",
       "      <td>Oil and oil products (PJ)                     ...</td>\n",
       "      <td>14.63</td>\n",
       "      <td>12.07</td>\n",
       "      <td>15.11</td>\n",
       "      <td>15.3</td>\n",
       "      <td>16.7</td>\n",
       "      <td>14.65</td>\n",
       "      <td>14.74</td>\n",
       "      <td>15.2</td>\n",
       "      <td>14.73</td>\n",
       "    </tr>\n",
       "    <tr>\n",
       "      <th>1</th>\n",
       "      <td>Australia</td>\n",
       "      <td>Total Residential</td>\n",
       "      <td>Gas (PJ)                                      ...</td>\n",
       "      <td>104.84</td>\n",
       "      <td>113.71</td>\n",
       "      <td>127.62</td>\n",
       "      <td>143.29</td>\n",
       "      <td>146.38</td>\n",
       "      <td>146.15</td>\n",
       "      <td>145.92</td>\n",
       "      <td>148.58</td>\n",
       "      <td>154.1</td>\n",
       "    </tr>\n",
       "    <tr>\n",
       "      <th>2</th>\n",
       "      <td>Australia</td>\n",
       "      <td>Total Residential</td>\n",
       "      <td>Coal and coal products (PJ)                   ...</td>\n",
       "      <td>0</td>\n",
       "      <td>0</td>\n",
       "      <td>0</td>\n",
       "      <td>0</td>\n",
       "      <td>0</td>\n",
       "      <td>0</td>\n",
       "      <td>0</td>\n",
       "      <td>0</td>\n",
       "      <td>0</td>\n",
       "    </tr>\n",
       "    <tr>\n",
       "      <th>3</th>\n",
       "      <td>Australia</td>\n",
       "      <td>Total Residential</td>\n",
       "      <td>Biofuels and waste (PJ)                       ...</td>\n",
       "      <td>80.6</td>\n",
       "      <td>67.8</td>\n",
       "      <td>55.6</td>\n",
       "      <td>49.8</td>\n",
       "      <td>49.22</td>\n",
       "      <td>48.8</td>\n",
       "      <td>48.2</td>\n",
       "      <td>47.6</td>\n",
       "      <td>47.1</td>\n",
       "    </tr>\n",
       "    <tr>\n",
       "      <th>4</th>\n",
       "      <td>Australia</td>\n",
       "      <td>Total Residential</td>\n",
       "      <td>Heat (PJ)                                     ...</td>\n",
       "      <td>0</td>\n",
       "      <td>0</td>\n",
       "      <td>0</td>\n",
       "      <td>0</td>\n",
       "      <td>0</td>\n",
       "      <td>0</td>\n",
       "      <td>0</td>\n",
       "      <td>0</td>\n",
       "      <td>0</td>\n",
       "    </tr>\n",
       "    <tr>\n",
       "      <th>...</th>\n",
       "      <td>...</td>\n",
       "      <td>...</td>\n",
       "      <td>...</td>\n",
       "      <td>...</td>\n",
       "      <td>...</td>\n",
       "      <td>...</td>\n",
       "      <td>...</td>\n",
       "      <td>...</td>\n",
       "      <td>...</td>\n",
       "      <td>...</td>\n",
       "      <td>...</td>\n",
       "      <td>...</td>\n",
       "    </tr>\n",
       "    <tr>\n",
       "      <th>793</th>\n",
       "      <td>Uruguay</td>\n",
       "      <td>Residential space cooling</td>\n",
       "      <td>Total final energy use (PJ)</td>\n",
       "      <td>..</td>\n",
       "      <td>..</td>\n",
       "      <td>0.47</td>\n",
       "      <td>1.22</td>\n",
       "      <td>1.27</td>\n",
       "      <td>1.39</td>\n",
       "      <td>1.42</td>\n",
       "      <td>..</td>\n",
       "      <td>..</td>\n",
       "    </tr>\n",
       "    <tr>\n",
       "      <th>794</th>\n",
       "      <td>Uruguay</td>\n",
       "      <td>Residential water heating</td>\n",
       "      <td>Total final energy use (PJ)</td>\n",
       "      <td>..</td>\n",
       "      <td>..</td>\n",
       "      <td>5.27</td>\n",
       "      <td>5.85</td>\n",
       "      <td>5.91</td>\n",
       "      <td>5.98</td>\n",
       "      <td>6.08</td>\n",
       "      <td>..</td>\n",
       "      <td>..</td>\n",
       "    </tr>\n",
       "    <tr>\n",
       "      <th>795</th>\n",
       "      <td>Uruguay</td>\n",
       "      <td>Residential cooking</td>\n",
       "      <td>Total final energy use (PJ)                   ...</td>\n",
       "      <td>..</td>\n",
       "      <td>..</td>\n",
       "      <td>7.38</td>\n",
       "      <td>5.56</td>\n",
       "      <td>5.56</td>\n",
       "      <td>5.4</td>\n",
       "      <td>5.39</td>\n",
       "      <td>..</td>\n",
       "      <td>..</td>\n",
       "    </tr>\n",
       "    <tr>\n",
       "      <th>796</th>\n",
       "      <td>Uruguay</td>\n",
       "      <td>Residential lighting</td>\n",
       "      <td>Total final energy use (PJ)                   ...</td>\n",
       "      <td>..</td>\n",
       "      <td>..</td>\n",
       "      <td>..</td>\n",
       "      <td>..</td>\n",
       "      <td>..</td>\n",
       "      <td>..</td>\n",
       "      <td>..</td>\n",
       "      <td>..</td>\n",
       "      <td>..</td>\n",
       "    </tr>\n",
       "    <tr>\n",
       "      <th>797</th>\n",
       "      <td>Uruguay</td>\n",
       "      <td>Residential appliances</td>\n",
       "      <td>Total final energy use (PJ)                   ...</td>\n",
       "      <td>..</td>\n",
       "      <td>..</td>\n",
       "      <td>7.21</td>\n",
       "      <td>8.02</td>\n",
       "      <td>8.96</td>\n",
       "      <td>8.06</td>\n",
       "      <td>8.34</td>\n",
       "      <td>..</td>\n",
       "      <td>..</td>\n",
       "    </tr>\n",
       "  </tbody>\n",
       "</table>\n",
       "<p>798 rows × 12 columns</p>\n",
       "</div>\n",
       "      <button class=\"colab-df-convert\" onclick=\"convertToInteractive('df-9ef85609-888f-4900-a083-c615a56532ab')\"\n",
       "              title=\"Convert this dataframe to an interactive table.\"\n",
       "              style=\"display:none;\">\n",
       "        \n",
       "  <svg xmlns=\"http://www.w3.org/2000/svg\" height=\"24px\"viewBox=\"0 0 24 24\"\n",
       "       width=\"24px\">\n",
       "    <path d=\"M0 0h24v24H0V0z\" fill=\"none\"/>\n",
       "    <path d=\"M18.56 5.44l.94 2.06.94-2.06 2.06-.94-2.06-.94-.94-2.06-.94 2.06-2.06.94zm-11 1L8.5 8.5l.94-2.06 2.06-.94-2.06-.94L8.5 2.5l-.94 2.06-2.06.94zm10 10l.94 2.06.94-2.06 2.06-.94-2.06-.94-.94-2.06-.94 2.06-2.06.94z\"/><path d=\"M17.41 7.96l-1.37-1.37c-.4-.4-.92-.59-1.43-.59-.52 0-1.04.2-1.43.59L10.3 9.45l-7.72 7.72c-.78.78-.78 2.05 0 2.83L4 21.41c.39.39.9.59 1.41.59.51 0 1.02-.2 1.41-.59l7.78-7.78 2.81-2.81c.8-.78.8-2.07 0-2.86zM5.41 20L4 18.59l7.72-7.72 1.47 1.35L5.41 20z\"/>\n",
       "  </svg>\n",
       "      </button>\n",
       "      \n",
       "  <style>\n",
       "    .colab-df-container {\n",
       "      display:flex;\n",
       "      flex-wrap:wrap;\n",
       "      gap: 12px;\n",
       "    }\n",
       "\n",
       "    .colab-df-convert {\n",
       "      background-color: #E8F0FE;\n",
       "      border: none;\n",
       "      border-radius: 50%;\n",
       "      cursor: pointer;\n",
       "      display: none;\n",
       "      fill: #1967D2;\n",
       "      height: 32px;\n",
       "      padding: 0 0 0 0;\n",
       "      width: 32px;\n",
       "    }\n",
       "\n",
       "    .colab-df-convert:hover {\n",
       "      background-color: #E2EBFA;\n",
       "      box-shadow: 0px 1px 2px rgba(60, 64, 67, 0.3), 0px 1px 3px 1px rgba(60, 64, 67, 0.15);\n",
       "      fill: #174EA6;\n",
       "    }\n",
       "\n",
       "    [theme=dark] .colab-df-convert {\n",
       "      background-color: #3B4455;\n",
       "      fill: #D2E3FC;\n",
       "    }\n",
       "\n",
       "    [theme=dark] .colab-df-convert:hover {\n",
       "      background-color: #434B5C;\n",
       "      box-shadow: 0px 1px 3px 1px rgba(0, 0, 0, 0.15);\n",
       "      filter: drop-shadow(0px 1px 2px rgba(0, 0, 0, 0.3));\n",
       "      fill: #FFFFFF;\n",
       "    }\n",
       "  </style>\n",
       "\n",
       "      <script>\n",
       "        const buttonEl =\n",
       "          document.querySelector('#df-9ef85609-888f-4900-a083-c615a56532ab button.colab-df-convert');\n",
       "        buttonEl.style.display =\n",
       "          google.colab.kernel.accessAllowed ? 'block' : 'none';\n",
       "\n",
       "        async function convertToInteractive(key) {\n",
       "          const element = document.querySelector('#df-9ef85609-888f-4900-a083-c615a56532ab');\n",
       "          const dataTable =\n",
       "            await google.colab.kernel.invokeFunction('convertToInteractive',\n",
       "                                                     [key], {});\n",
       "          if (!dataTable) return;\n",
       "\n",
       "          const docLinkHtml = 'Like what you see? Visit the ' +\n",
       "            '<a target=\"_blank\" href=https://colab.research.google.com/notebooks/data_table.ipynb>data table notebook</a>'\n",
       "            + ' to learn more about interactive tables.';\n",
       "          element.innerHTML = '';\n",
       "          dataTable['output_type'] = 'display_data';\n",
       "          await google.colab.output.renderOutput(dataTable, element);\n",
       "          const docLink = document.createElement('div');\n",
       "          docLink.innerHTML = docLinkHtml;\n",
       "          element.appendChild(docLink);\n",
       "        }\n",
       "      </script>\n",
       "    </div>\n",
       "  </div>\n",
       "  "
      ],
      "text/plain": [
       "       Country                    End use  \\\n",
       "0    Australia          Total Residential   \n",
       "1    Australia          Total Residential   \n",
       "2    Australia          Total Residential   \n",
       "3    Australia          Total Residential   \n",
       "4    Australia          Total Residential   \n",
       "..         ...                        ...   \n",
       "793    Uruguay  Residential space cooling   \n",
       "794    Uruguay  Residential water heating   \n",
       "795    Uruguay        Residential cooking   \n",
       "796    Uruguay       Residential lighting   \n",
       "797    Uruguay     Residential appliances   \n",
       "\n",
       "                                               Product    2000    2005  \\\n",
       "0    Oil and oil products (PJ)                     ...   14.63   12.07   \n",
       "1    Gas (PJ)                                      ...  104.84  113.71   \n",
       "2    Coal and coal products (PJ)                   ...       0       0   \n",
       "3    Biofuels and waste (PJ)                       ...    80.6    67.8   \n",
       "4    Heat (PJ)                                     ...       0       0   \n",
       "..                                                 ...     ...     ...   \n",
       "793    Total final energy use (PJ)                          ..      ..   \n",
       "794    Total final energy use (PJ)                          ..      ..   \n",
       "795  Total final energy use (PJ)                   ...      ..      ..   \n",
       "796  Total final energy use (PJ)                   ...      ..      ..   \n",
       "797  Total final energy use (PJ)                   ...      ..      ..   \n",
       "\n",
       "       2010    2015    2016    2017    2018    2019   2020  \n",
       "0     15.11    15.3    16.7   14.65   14.74    15.2  14.73  \n",
       "1    127.62  143.29  146.38  146.15  145.92  148.58  154.1  \n",
       "2         0       0       0       0       0       0      0  \n",
       "3      55.6    49.8   49.22    48.8    48.2    47.6   47.1  \n",
       "4         0       0       0       0       0       0      0  \n",
       "..      ...     ...     ...     ...     ...     ...    ...  \n",
       "793    0.47    1.22    1.27    1.39    1.42      ..     ..  \n",
       "794    5.27    5.85    5.91    5.98    6.08      ..     ..  \n",
       "795    7.38    5.56    5.56     5.4    5.39      ..     ..  \n",
       "796      ..      ..      ..      ..      ..      ..     ..  \n",
       "797    7.21    8.02    8.96    8.06    8.34      ..     ..  \n",
       "\n",
       "[798 rows x 12 columns]"
      ]
     },
     "execution_count": 15,
     "metadata": {},
     "output_type": "execute_result"
    }
   ],
   "source": [
    "residential_energy"
   ]
  },
  {
   "cell_type": "code",
   "execution_count": null,
   "metadata": {
    "colab": {
     "base_uri": "https://localhost:8080/"
    },
    "id": "YMMhMxoQ0Ozd",
    "outputId": "02836a84-f5a4-404d-9895-7d51d2e54862"
   },
   "outputs": [
    {
     "data": {
      "text/plain": [
       "Index(['Country', 'End use', 'Product',      2000,      2005,      2010,\n",
       "            2015,      2016,      2017,      2018,      2019,      2020],\n",
       "      dtype='object')"
      ]
     },
     "execution_count": 16,
     "metadata": {},
     "output_type": "execute_result"
    }
   ],
   "source": [
    "residential_energy.columns"
   ]
  },
  {
   "cell_type": "code",
   "execution_count": null,
   "metadata": {
    "colab": {
     "base_uri": "https://localhost:8080/"
    },
    "id": "UGHVfAaZ4pGQ",
    "outputId": "698bee63-0778-4688-9492-86b8e1ea2839"
   },
   "outputs": [
    {
     "data": {
      "text/plain": [
       "str"
      ]
     },
     "execution_count": 17,
     "metadata": {},
     "output_type": "execute_result"
    }
   ],
   "source": [
    "type(residential_energy.columns[0])"
   ]
  },
  {
   "cell_type": "code",
   "execution_count": 96,
   "metadata": {
    "colab": {
     "base_uri": "https://localhost:8080/"
    },
    "id": "DZSgDg_gUzng",
    "outputId": "7368c000-8c73-490c-e418-fc6de716faeb"
   },
   "outputs": [
    {
     "data": {
      "text/plain": [
       "int"
      ]
     },
     "execution_count": 96,
     "metadata": {},
     "output_type": "execute_result"
    }
   ],
   "source": [
    "type(residential_energy.columns[-1])"
   ]
  },
  {
   "cell_type": "code",
   "execution_count": null,
   "metadata": {
    "id": "TS9a-Abe1vd4"
   },
   "outputs": [],
   "source": [
    "def convert(data):\n",
    "  cols = []\n",
    "  for i in range(len(data.columns)):\n",
    "      data_type = str(type(data.columns[i]))\n",
    "      if \"str\" in data_type:\n",
    "          cols.append(data.columns[i])\n",
    "  #Melt function\n",
    "  temp = data.melt(id_vars=cols, \n",
    "        var_name=\"year\", \n",
    "        value_name=\"values\")\n",
    "  return temp"
   ]
  },
  {
   "cell_type": "code",
   "execution_count": null,
   "metadata": {
    "id": "gD1jB2Bd9FWU"
   },
   "outputs": [],
   "source": [
    "#Modifying all the energy datasets\n",
    "modified_re = convert(residential_energy)\n",
    "modified_se = convert(services_energy)\n",
    "modified_ie = convert(industrial_energy)\n",
    "modified_te = convert(transport_energy)"
   ]
  },
  {
   "cell_type": "code",
   "execution_count": null,
   "metadata": {
    "id": "sLfflfO99n26"
   },
   "outputs": [],
   "source": [
    "#Modifying all the emissions\n",
    "modified_rems = convert(residential_emissions)\n",
    "modified_sems = convert(services_emissions)\n",
    "modified_iems = convert(industrial_emissions)\n",
    "modified_tems = convert(transport_emissions)"
   ]
  },
  {
   "cell_type": "code",
   "execution_count": null,
   "metadata": {
    "id": "ft7AYrEL-nqU"
   },
   "outputs": [],
   "source": [
    "#Modifying all the energy indicators\n",
    "modified_rei = convert(residential_ei)\n",
    "modified_sei = convert(services_ei)\n",
    "modified_iei = convert(industrial_ei)\n",
    "modified_tei = convert(transport_ei)"
   ]
  },
  {
   "cell_type": "code",
   "execution_count": null,
   "metadata": {
    "id": "18yhgE9c_WPt"
   },
   "outputs": [],
   "source": [
    "#Modifying all the carbon indicators\n",
    "modified_rci = convert(residential_ci)\n",
    "modified_sci = convert(services_ci)\n",
    "modified_ici = convert(industrial_ci)\n",
    "modified_tci = convert(transport_ci)"
   ]
  },
  {
   "cell_type": "markdown",
   "metadata": {
    "id": "USjcEDeTXROP"
   },
   "source": [
    "Verify whether in all datasets the year column generated "
   ]
  },
  {
   "cell_type": "markdown",
   "metadata": {
    "id": "CYs36hu0dq_M"
   },
   "source": [
    "## ENERGY"
   ]
  },
  {
   "cell_type": "code",
   "execution_count": null,
   "metadata": {
    "colab": {
     "base_uri": "https://localhost:8080/"
    },
    "id": "YEgqtELkdW6d",
    "outputId": "81ceeb12-2920-4d02-c77d-9138b936f3af"
   },
   "outputs": [
    {
     "name": "stdout",
     "output_type": "stream",
     "text": [
      "Original columns:  Index(['Country', 'End use', 'Product',      2000,      2005,      2010,\n",
      "            2015,      2016,      2017,      2018,      2019,      2020],\n",
      "      dtype='object')\n",
      "\n",
      "Modified: Index(['Country', 'End use', 'Product', 'year', 'values'], dtype='object')\n",
      "\n",
      "Unique years:  [2000 2005 2010 2015 2016 2017 2018 2019 2020]\n"
     ]
    }
   ],
   "source": [
    "#Residential Energy\n",
    "print(\"Original columns: \",residential_energy.columns)\n",
    "print(\"\\nModified:\",modified_re.columns)\n",
    "print(\"\\nUnique years: \",modified_re['year'].unique())"
   ]
  },
  {
   "cell_type": "code",
   "execution_count": null,
   "metadata": {
    "colab": {
     "base_uri": "https://localhost:8080/"
    },
    "id": "Ham5XAhgdQzY",
    "outputId": "c3ecb6f7-06b1-4503-d56d-311868f93e86"
   },
   "outputs": [
    {
     "name": "stdout",
     "output_type": "stream",
     "text": [
      "Original columns:  Index(['Country', 'End use', 'Product',      2000,      2005,      2010,\n",
      "            2015,      2016,      2017,      2018,      2019,      2020],\n",
      "      dtype='object')\n",
      "\n",
      "Modified: Index(['Country', 'End use', 'Product', 'year', 'values'], dtype='object')\n",
      "\n",
      "Unique years:  [2000 2005 2010 2015 2016 2017 2018 2019 2020]\n"
     ]
    }
   ],
   "source": [
    "#Services Energy\n",
    "print(\"Original columns: \",services_energy.columns)\n",
    "print(\"\\nModified:\",modified_se.columns)\n",
    "print(\"\\nUnique years: \",modified_se['year'].unique())"
   ]
  },
  {
   "cell_type": "code",
   "execution_count": null,
   "metadata": {
    "colab": {
     "base_uri": "https://localhost:8080/"
    },
    "id": "ZKD9zBbXc2L-",
    "outputId": "20b95d9b-2822-40ba-f05c-24b4298eaec3"
   },
   "outputs": [
    {
     "name": "stdout",
     "output_type": "stream",
     "text": [
      "Original columns:  Index([  'Country', 'Subsector',   'Product',        2000,        2005,\n",
      "              2010,        2015,        2016,        2017,        2018,\n",
      "              2019,        2020],\n",
      "      dtype='object')\n",
      "\n",
      "Modified: Index(['Country', 'Subsector', 'Product', 'year', 'values'], dtype='object')\n",
      "\n",
      "Unique years:  [2000 2005 2010 2015 2016 2017 2018 2019 2020]\n"
     ]
    }
   ],
   "source": [
    "#Industrial Energy\n",
    "print(\"Original columns: \",industrial_energy.columns)\n",
    "print(\"\\nModified:\",modified_ie.columns)\n",
    "print(\"\\nUnique years: \",modified_ie['year'].unique())"
   ]
  },
  {
   "cell_type": "code",
   "execution_count": null,
   "metadata": {
    "colab": {
     "base_uri": "https://localhost:8080/"
    },
    "id": "wHSBnVOscFjy",
    "outputId": "eb6429f8-d371-4293-c550-6e01426aff96"
   },
   "outputs": [
    {
     "name": "stdout",
     "output_type": "stream",
     "text": [
      "Original columns:  Index([          'Country', 'Mode/vehicle type',           'Product',\n",
      "                      2000,                2005,                2010,\n",
      "                      2015,                2016,                2017,\n",
      "                      2018,                2019,                2020],\n",
      "      dtype='object')\n",
      "\n",
      "Modified: Index(['Country', 'Mode/vehicle type', 'Product', 'year', 'values'], dtype='object')\n",
      "\n",
      "Unique years:  [2000 2005 2010 2015 2016 2017 2018 2019 2020]\n"
     ]
    }
   ],
   "source": [
    "#Transport Energy\n",
    "print(\"Original columns: \",transport_energy.columns)\n",
    "print(\"\\nModified:\",modified_te.columns)\n",
    "print(\"\\nUnique years: \",modified_te['year'].unique())"
   ]
  },
  {
   "cell_type": "markdown",
   "metadata": {
    "id": "HmNQaPojcABK"
   },
   "source": [
    "## EMISSIONS"
   ]
  },
  {
   "cell_type": "code",
   "execution_count": null,
   "metadata": {
    "colab": {
     "base_uri": "https://localhost:8080/"
    },
    "id": "P2F85CnDbZng",
    "outputId": "a94aac66-abd0-4797-84af-9c585462b6ac"
   },
   "outputs": [
    {
     "name": "stdout",
     "output_type": "stream",
     "text": [
      "Original columns:  Index([          'Country', 'Mode/vehicle type',           'Product',\n",
      "                      2000,                2005,                2010,\n",
      "                      2015,                2016,                2017,\n",
      "                      2018,                2019,                2020],\n",
      "      dtype='object')\n",
      "\n",
      "Modified: Index(['Country', 'Mode/vehicle type', 'Product', 'year', 'values'], dtype='object')\n",
      "\n",
      "Unique years:  [2000 2005 2010 2015 2016 2017 2018 2019 2020]\n"
     ]
    }
   ],
   "source": [
    "#Transport Emissions\n",
    "print(\"Original columns: \",transport_emissions.columns)\n",
    "print(\"\\nModified:\",modified_tems.columns)\n",
    "print(\"\\nUnique years: \",modified_tems['year'].unique())"
   ]
  },
  {
   "cell_type": "code",
   "execution_count": null,
   "metadata": {
    "colab": {
     "base_uri": "https://localhost:8080/"
    },
    "id": "L76qcZyxbTMe",
    "outputId": "519de0ef-0e6e-41d4-dca6-5da3b1825fcc"
   },
   "outputs": [
    {
     "name": "stdout",
     "output_type": "stream",
     "text": [
      "Original columns:  Index([  'Country', 'Subsector',   'Product',        2000,        2005,\n",
      "              2010,        2015,        2016,        2017,        2018,\n",
      "              2019,        2020],\n",
      "      dtype='object')\n",
      "\n",
      "Modified: Index(['Country', 'Subsector', 'Product', 'year', 'values'], dtype='object')\n",
      "\n",
      "Unique years:  [2000 2005 2010 2015 2016 2017 2018 2019 2020]\n"
     ]
    }
   ],
   "source": [
    "#Industrial Emissions\n",
    "print(\"Original columns: \",industrial_emissions.columns)\n",
    "print(\"\\nModified:\",modified_iems.columns)\n",
    "print(\"\\nUnique years: \",modified_iems['year'].unique())"
   ]
  },
  {
   "cell_type": "code",
   "execution_count": null,
   "metadata": {
    "colab": {
     "base_uri": "https://localhost:8080/"
    },
    "id": "GP52984PbKVk",
    "outputId": "3294b051-c1f8-412c-be38-bae32dd19869"
   },
   "outputs": [
    {
     "name": "stdout",
     "output_type": "stream",
     "text": [
      "Original columns:  Index(['Country', 'End use', 'Product',      2000,      2005,      2010,\n",
      "            2015,      2016,      2017,      2018,      2019,      2020],\n",
      "      dtype='object')\n",
      "\n",
      "Modified: Index(['Country', 'End use', 'Product', 'year', 'values'], dtype='object')\n",
      "\n",
      "Unique years:  [2000 2005 2010 2015 2016 2017 2018 2019 2020]\n"
     ]
    }
   ],
   "source": [
    "#Services Emissions\n",
    "print(\"Original columns: \",services_emissions.columns)\n",
    "print(\"\\nModified:\",modified_sems.columns)\n",
    "print(\"\\nUnique years: \",modified_sems['year'].unique())"
   ]
  },
  {
   "cell_type": "code",
   "execution_count": null,
   "metadata": {
    "colab": {
     "base_uri": "https://localhost:8080/"
    },
    "id": "ag0WKsloa_DB",
    "outputId": "f81c3c30-9f20-4b12-e605-02ff5b64a4b0"
   },
   "outputs": [
    {
     "name": "stdout",
     "output_type": "stream",
     "text": [
      "Original columns:  Index(['Country', 'End use', 'Product',      2000,      2005,      2010,\n",
      "            2015,      2016,      2017,      2018,      2019,      2020],\n",
      "      dtype='object')\n",
      "\n",
      "Modified: Index(['Country', 'End use', 'Product', 'year', 'values'], dtype='object')\n",
      "\n",
      "Unique years:  [2000 2005 2010 2015 2016 2017 2018 2019 2020]\n"
     ]
    }
   ],
   "source": [
    "#Residential Emissions\n",
    "print(\"Original columns: \",residential_emissions.columns)\n",
    "print(\"\\nModified:\",modified_rems.columns)\n",
    "print(\"\\nUnique years: \",modified_rems['year'].unique())"
   ]
  },
  {
   "cell_type": "markdown",
   "metadata": {
    "id": "UDydL9AcbsGJ"
   },
   "source": [
    "## ENERGY INDICATORS"
   ]
  },
  {
   "cell_type": "code",
   "execution_count": null,
   "metadata": {
    "colab": {
     "base_uri": "https://localhost:8080/"
    },
    "id": "QPanjXVRaicy",
    "outputId": "9078fcb4-d1af-49e5-ff5e-8cb08af44bd6"
   },
   "outputs": [
    {
     "name": "stdout",
     "output_type": "stream",
     "text": [
      "Original columns:  Index([          'Country', 'Mode/vehicle type',         'Indicator',\n",
      "                      2000,                2005,                2010,\n",
      "                      2015,                2016,                2017,\n",
      "                      2018,                2019,                2020],\n",
      "      dtype='object')\n",
      "\n",
      "Modified: Index(['Country', 'Mode/vehicle type', 'Indicator', 'year', 'values'], dtype='object')\n",
      "\n",
      "Unique years:  [2000 2005 2010 2015 2016 2017 2018 2019 2020]\n"
     ]
    }
   ],
   "source": [
    "#Transport Energy Indicators\n",
    "print(\"Original columns: \",transport_ei.columns)\n",
    "print(\"\\nModified:\",modified_tei.columns)\n",
    "print(\"\\nUnique years: \",modified_tei['year'].unique())"
   ]
  },
  {
   "cell_type": "code",
   "execution_count": null,
   "metadata": {
    "colab": {
     "base_uri": "https://localhost:8080/"
    },
    "id": "rjMzVDNaaT5f",
    "outputId": "981a2d35-21e3-4b34-ab4b-c270b5dc6c7d"
   },
   "outputs": [
    {
     "name": "stdout",
     "output_type": "stream",
     "text": [
      "Original columns:  Index([  'Country', 'Subsector', 'Indicator',        2000,        2005,\n",
      "              2010,        2015,        2016,        2017,        2018,\n",
      "              2019,        2020],\n",
      "      dtype='object')\n",
      "\n",
      "Modified: Index(['Country', 'Subsector', 'Indicator', 'year', 'values'], dtype='object')\n",
      "\n",
      "Unique years:  [2000 2005 2010 2015 2016 2017 2018 2019 2020]\n"
     ]
    }
   ],
   "source": [
    "#Industrial Energy Indicators\n",
    "print(\"Original columns: \",industrial_ei.columns)\n",
    "print(\"\\nModified:\",modified_iei.columns)\n",
    "print(\"\\nUnique years: \",modified_iei['year'].unique())"
   ]
  },
  {
   "cell_type": "code",
   "execution_count": null,
   "metadata": {
    "colab": {
     "base_uri": "https://localhost:8080/"
    },
    "id": "7iMMuo6qaIu5",
    "outputId": "471e3d68-f483-4c29-f918-cb7eb64362d6"
   },
   "outputs": [
    {
     "name": "stdout",
     "output_type": "stream",
     "text": [
      "Original columns:  Index([  'Country',   'End use', 'Indicator',        2000,        2005,\n",
      "              2010,        2015,        2016,        2017,        2018,\n",
      "              2019,        2020],\n",
      "      dtype='object')\n",
      "\n",
      "Modified: Index(['Country', 'End use', 'Indicator', 'year', 'values'], dtype='object')\n",
      "\n",
      "Unique years:  [2000 2005 2010 2015 2016 2017 2018 2019 2020]\n"
     ]
    }
   ],
   "source": [
    "#Services Energy Indicators\n",
    "print(\"Original columns: \",services_ei.columns)\n",
    "print(\"\\nModified:\",modified_sei.columns)\n",
    "print(\"\\nUnique years: \",modified_sei['year'].unique())"
   ]
  },
  {
   "cell_type": "code",
   "execution_count": null,
   "metadata": {
    "colab": {
     "base_uri": "https://localhost:8080/"
    },
    "id": "zsoJ34xPZrCL",
    "outputId": "c272bc21-bf57-45ef-9b51-45300234c27b"
   },
   "outputs": [
    {
     "name": "stdout",
     "output_type": "stream",
     "text": [
      "Original columns:  Index([  'Country',   'End use', 'Indicator',        2000,        2005,\n",
      "              2010,        2015,        2016,        2017,        2018,\n",
      "              2019,        2020],\n",
      "      dtype='object')\n",
      "\n",
      "Modified: Index(['Country', 'End use', 'Indicator', 'year', 'values'], dtype='object')\n",
      "\n",
      "Unique years:  [2000 2005 2010 2015 2016 2017 2018 2019 2020]\n"
     ]
    }
   ],
   "source": [
    "#Residential Energy Indicators\n",
    "print(\"Original columns: \",residential_ei.columns)\n",
    "print(\"\\nModified:\",modified_rei.columns)\n",
    "print(\"\\nUnique years: \",modified_rei['year'].unique())"
   ]
  },
  {
   "cell_type": "markdown",
   "metadata": {
    "id": "8XZcdDx6b27j"
   },
   "source": [
    "## CARBON INDICATORS"
   ]
  },
  {
   "cell_type": "code",
   "execution_count": null,
   "metadata": {
    "colab": {
     "base_uri": "https://localhost:8080/"
    },
    "id": "U4SUTNbmZaXp",
    "outputId": "06ed108d-058c-4fae-f7f5-1edea483b5d8"
   },
   "outputs": [
    {
     "name": "stdout",
     "output_type": "stream",
     "text": [
      "Original columns:  Index([          'Country', 'Mode/vehicle type',         'Indicator',\n",
      "                      2000,                2005,                2010,\n",
      "                      2015,                2016,                2017,\n",
      "                      2018,                2019,                2020],\n",
      "      dtype='object')\n",
      "\n",
      "Modified: Index(['Country', 'Mode/vehicle type', 'Indicator', 'year', 'values'], dtype='object')\n",
      "\n",
      "Unique years:  [2000 2005 2010 2015 2016 2017 2018 2019 2020]\n"
     ]
    }
   ],
   "source": [
    "#Transport Carbon Indicators\n",
    "print(\"Original columns: \",transport_ci.columns)\n",
    "print(\"\\nModified:\",modified_tci.columns)\n",
    "print(\"\\nUnique years: \",modified_tci['year'].unique())"
   ]
  },
  {
   "cell_type": "code",
   "execution_count": null,
   "metadata": {
    "colab": {
     "base_uri": "https://localhost:8080/"
    },
    "id": "BasnHx5pZG0c",
    "outputId": "90b8e101-e521-4d9f-cc4e-306ffa35f45e"
   },
   "outputs": [
    {
     "name": "stdout",
     "output_type": "stream",
     "text": [
      "Original columns:  Index([  'Country', 'Subsector', 'Indicator',        2000,        2005,\n",
      "              2010,        2015,        2016,        2017,        2018,\n",
      "              2019,        2020],\n",
      "      dtype='object')\n",
      "\n",
      "Modified: Index(['Country', 'Subsector', 'Indicator', 'year', 'values'], dtype='object')\n",
      "\n",
      "Unique years:  [2000 2005 2010 2015 2016 2017 2018 2019 2020]\n"
     ]
    }
   ],
   "source": [
    "#Industrial Carbon Indicators\n",
    "print(\"Original columns: \",industrial_ci.columns)\n",
    "print(\"\\nModified:\",modified_ici.columns)\n",
    "print(\"\\nUnique years: \",modified_ici['year'].unique())"
   ]
  },
  {
   "cell_type": "code",
   "execution_count": null,
   "metadata": {
    "colab": {
     "base_uri": "https://localhost:8080/"
    },
    "id": "u2INZLLlYI05",
    "outputId": "86eaa1b0-aa44-493b-ddb5-5654479fc608"
   },
   "outputs": [
    {
     "name": "stdout",
     "output_type": "stream",
     "text": [
      "Original columns:  Index([  'Country',   'End use', 'Indicator',        2000,        2005,\n",
      "              2010,        2015,        2016,        2017,        2018,\n",
      "              2019,        2020],\n",
      "      dtype='object')\n",
      "\n",
      "Modified: Index(['Country', 'End use', 'Indicator', 'year', 'values'], dtype='object')\n",
      "\n",
      "Unique years:  [2000 2005 2010 2015 2016 2017 2018 2019 2020]\n"
     ]
    }
   ],
   "source": [
    "#Services Carbon Indicators\n",
    "print(\"Original columns: \",services_ci.columns)\n",
    "print(\"\\nModified:\",modified_sci.columns)\n",
    "print(\"\\nUnique years: \",modified_sci['year'].unique())"
   ]
  },
  {
   "cell_type": "code",
   "execution_count": null,
   "metadata": {
    "colab": {
     "base_uri": "https://localhost:8080/"
    },
    "id": "dA-BjCf5XPfQ",
    "outputId": "dcbd86b3-f9a5-469b-a849-86c6e87d7612"
   },
   "outputs": [
    {
     "name": "stdout",
     "output_type": "stream",
     "text": [
      "Original columns:  Index([  'Country',   'End use', 'Indicator',        2000,        2005,\n",
      "              2010,        2015,        2016,        2017,        2018,\n",
      "              2019,        2020],\n",
      "      dtype='object')\n",
      "\n",
      "Modified: Index(['Country', 'End use', 'Indicator', 'year', 'values'], dtype='object')\n",
      "\n",
      "Unique years:  [2000 2005 2010 2015 2016 2017 2018 2019 2020]\n"
     ]
    }
   ],
   "source": [
    "#Residential Carbon Indicators\n",
    "print(\"Original columns: \",residential_ci.columns)\n",
    "print(\"\\nModified:\",modified_rci.columns)\n",
    "print(\"\\nUnique years: \",modified_rci['year'].unique())"
   ]
  },
  {
   "cell_type": "markdown",
   "metadata": {
    "id": "Ft8LwgvgdxXg"
   },
   "source": [
    "Verified , in all the modified datasets we have year column and not missed anything"
   ]
  },
  {
   "cell_type": "markdown",
   "metadata": {
    "id": "59ZOh0TtfI2k"
   },
   "source": [
    "## Cleaning the data"
   ]
  },
  {
   "cell_type": "markdown",
   "metadata": {
    "id": "DjuTKAxdQAyl"
   },
   "source": [
    "Observed that the year, values are read as object data types. So fixing the dtypes. \n",
    "* Year : converted to int\n",
    "* values : Replaced \"..\" with np.nan and converted to float \n",
    "* Finally dropped the null values."
   ]
  },
  {
   "cell_type": "markdown",
   "metadata": {
    "id": "P7T324rhOMIa"
   },
   "source": [
    "### Modified Residential Energy"
   ]
  },
  {
   "cell_type": "code",
   "execution_count": null,
   "metadata": {
    "colab": {
     "base_uri": "https://localhost:8080/"
    },
    "id": "WEDZ-5IBOVhe",
    "outputId": "d72aee4c-cbcf-4601-f0e3-ceaedc1f1e19"
   },
   "outputs": [
    {
     "name": "stdout",
     "output_type": "stream",
     "text": [
      "<class 'pandas.core.frame.DataFrame'>\n",
      "RangeIndex: 7182 entries, 0 to 7181\n",
      "Data columns (total 5 columns):\n",
      " #   Column   Non-Null Count  Dtype \n",
      "---  ------   --------------  ----- \n",
      " 0   Country  7182 non-null   object\n",
      " 1   End use  7182 non-null   object\n",
      " 2   Product  7182 non-null   object\n",
      " 3   year     7182 non-null   object\n",
      " 4   values   7182 non-null   object\n",
      "dtypes: object(5)\n",
      "memory usage: 280.7+ KB\n"
     ]
    }
   ],
   "source": [
    "modified_re.info()"
   ]
  },
  {
   "cell_type": "code",
   "execution_count": null,
   "metadata": {
    "colab": {
     "base_uri": "https://localhost:8080/"
    },
    "id": "PuwlRDkOOQP3",
    "outputId": "1b193b6d-915a-48a1-b43b-8ba989982224"
   },
   "outputs": [
    {
     "name": "stdout",
     "output_type": "stream",
     "text": [
      "<class 'pandas.core.frame.DataFrame'>\n",
      "Int64Index: 6114 entries, 0 to 7153\n",
      "Data columns (total 5 columns):\n",
      " #   Column   Non-Null Count  Dtype  \n",
      "---  ------   --------------  -----  \n",
      " 0   Country  6114 non-null   object \n",
      " 1   End use  6114 non-null   object \n",
      " 2   Product  6114 non-null   object \n",
      " 3   year     6114 non-null   int64  \n",
      " 4   values   6114 non-null   float64\n",
      "dtypes: float64(1), int64(1), object(3)\n",
      "memory usage: 286.6+ KB\n"
     ]
    }
   ],
   "source": [
    "modified_re['year']=modified_re['year'].astype(int)\n",
    "modified_re['values']=modified_re['values'].replace(\"..\",np.nan).astype(float)\n",
    "modified_re.dropna(inplace=True)\n",
    "modified_re.info()\n"
   ]
  },
  {
   "cell_type": "markdown",
   "metadata": {
    "id": "TWxgcoKtoQoS"
   },
   "source": [
    "Simillarly we will do this for all the datasets and save the cleaned datasets to use for powerbi "
   ]
  },
  {
   "cell_type": "markdown",
   "metadata": {
    "id": "ICP8gzJkOmDd"
   },
   "source": [
    "### Modified Services Energy"
   ]
  },
  {
   "cell_type": "code",
   "execution_count": null,
   "metadata": {
    "colab": {
     "base_uri": "https://localhost:8080/"
    },
    "id": "rVbKZN5XOo67",
    "outputId": "75eacfa3-125c-4dd2-f8e2-c17c0dd10874"
   },
   "outputs": [
    {
     "name": "stdout",
     "output_type": "stream",
     "text": [
      "<class 'pandas.core.frame.DataFrame'>\n",
      "RangeIndex: 5643 entries, 0 to 5642\n",
      "Data columns (total 5 columns):\n",
      " #   Column   Non-Null Count  Dtype \n",
      "---  ------   --------------  ----- \n",
      " 0   Country  5643 non-null   object\n",
      " 1   End use  5643 non-null   object\n",
      " 2   Product  5643 non-null   object\n",
      " 3   year     5643 non-null   object\n",
      " 4   values   5643 non-null   object\n",
      "dtypes: object(5)\n",
      "memory usage: 220.6+ KB\n"
     ]
    }
   ],
   "source": [
    "modified_se.info()"
   ]
  },
  {
   "cell_type": "code",
   "execution_count": null,
   "metadata": {
    "colab": {
     "base_uri": "https://localhost:8080/"
    },
    "id": "Rr2T2ZO0Oshf",
    "outputId": "a27adee7-af6b-4c9a-ffad-f0ef67e858ba"
   },
   "outputs": [
    {
     "name": "stdout",
     "output_type": "stream",
     "text": [
      "<class 'pandas.core.frame.DataFrame'>\n",
      "Int64Index: 4494 entries, 0 to 5617\n",
      "Data columns (total 5 columns):\n",
      " #   Column   Non-Null Count  Dtype  \n",
      "---  ------   --------------  -----  \n",
      " 0   Country  4494 non-null   object \n",
      " 1   End use  4494 non-null   object \n",
      " 2   Product  4494 non-null   object \n",
      " 3   year     4494 non-null   int64  \n",
      " 4   values   4494 non-null   float64\n",
      "dtypes: float64(1), int64(1), object(3)\n",
      "memory usage: 210.7+ KB\n"
     ]
    }
   ],
   "source": [
    "modified_se['year']=modified_se['year'].astype(int)\n",
    "modified_se['values']=modified_se['values'].replace(\"..\",np.nan).astype(float)\n",
    "modified_se.dropna(inplace=True)\n",
    "modified_se.info()\n"
   ]
  },
  {
   "cell_type": "markdown",
   "metadata": {
    "id": "HfDl7pBaO94p"
   },
   "source": [
    "### Modified Industrial Emissions"
   ]
  },
  {
   "cell_type": "code",
   "execution_count": null,
   "metadata": {
    "colab": {
     "base_uri": "https://localhost:8080/"
    },
    "id": "qbj3h3VIPA4U",
    "outputId": "e3544885-89aa-4d83-c89b-0b3e07589d6f"
   },
   "outputs": [
    {
     "name": "stdout",
     "output_type": "stream",
     "text": [
      "<class 'pandas.core.frame.DataFrame'>\n",
      "RangeIndex: 8235 entries, 0 to 8234\n",
      "Data columns (total 5 columns):\n",
      " #   Column     Non-Null Count  Dtype \n",
      "---  ------     --------------  ----- \n",
      " 0   Country    8235 non-null   object\n",
      " 1   Subsector  8235 non-null   object\n",
      " 2   Product    8235 non-null   object\n",
      " 3   year       8235 non-null   object\n",
      " 4   values     8235 non-null   object\n",
      "dtypes: object(5)\n",
      "memory usage: 321.8+ KB\n"
     ]
    }
   ],
   "source": [
    "modified_ie.info()"
   ]
  },
  {
   "cell_type": "code",
   "execution_count": null,
   "metadata": {
    "colab": {
     "base_uri": "https://localhost:8080/"
    },
    "id": "HreF0f09PEtC",
    "outputId": "9c3e749a-5643-4054-8563-7bb1a0274170"
   },
   "outputs": [
    {
     "name": "stdout",
     "output_type": "stream",
     "text": [
      "<class 'pandas.core.frame.DataFrame'>\n",
      "Int64Index: 7820 entries, 0 to 8189\n",
      "Data columns (total 5 columns):\n",
      " #   Column     Non-Null Count  Dtype  \n",
      "---  ------     --------------  -----  \n",
      " 0   Country    7820 non-null   object \n",
      " 1   Subsector  7820 non-null   object \n",
      " 2   Product    7820 non-null   object \n",
      " 3   year       7820 non-null   int64  \n",
      " 4   values     7820 non-null   float64\n",
      "dtypes: float64(1), int64(1), object(3)\n",
      "memory usage: 366.6+ KB\n"
     ]
    }
   ],
   "source": [
    "modified_ie['year']=modified_ie['year'].astype(int)\n",
    "modified_ie['values']=modified_ie['values'].replace(\"..\",np.nan).astype(float)\n",
    "modified_ie.dropna(inplace=True)\n",
    "modified_ie.info()\n"
   ]
  },
  {
   "cell_type": "markdown",
   "metadata": {
    "id": "Yhos4GzLMStX"
   },
   "source": [
    "### Modified Residential Emissions"
   ]
  },
  {
   "cell_type": "code",
   "execution_count": null,
   "metadata": {
    "colab": {
     "base_uri": "https://localhost:8080/"
    },
    "id": "RSL39ryJMXpG",
    "outputId": "ba42c667-02af-4829-b590-4b2858e63509"
   },
   "outputs": [
    {
     "name": "stdout",
     "output_type": "stream",
     "text": [
      "<class 'pandas.core.frame.DataFrame'>\n",
      "RangeIndex: 7182 entries, 0 to 7181\n",
      "Data columns (total 5 columns):\n",
      " #   Column   Non-Null Count  Dtype \n",
      "---  ------   --------------  ----- \n",
      " 0   Country  7182 non-null   object\n",
      " 1   End use  7182 non-null   object\n",
      " 2   Product  7182 non-null   object\n",
      " 3   year     7182 non-null   object\n",
      " 4   values   7182 non-null   object\n",
      "dtypes: object(5)\n",
      "memory usage: 280.7+ KB\n"
     ]
    }
   ],
   "source": [
    "modified_rems.info()"
   ]
  },
  {
   "cell_type": "code",
   "execution_count": null,
   "metadata": {
    "colab": {
     "base_uri": "https://localhost:8080/"
    },
    "id": "-1jMjAlfManw",
    "outputId": "8cfea8b9-f6f2-4338-f506-7036cdd980d6"
   },
   "outputs": [
    {
     "name": "stdout",
     "output_type": "stream",
     "text": [
      "<class 'pandas.core.frame.DataFrame'>\n",
      "Int64Index: 6078 entries, 0 to 7153\n",
      "Data columns (total 5 columns):\n",
      " #   Column   Non-Null Count  Dtype  \n",
      "---  ------   --------------  -----  \n",
      " 0   Country  6078 non-null   object \n",
      " 1   End use  6078 non-null   object \n",
      " 2   Product  6078 non-null   object \n",
      " 3   year     6078 non-null   int64  \n",
      " 4   values   6078 non-null   float64\n",
      "dtypes: float64(1), int64(1), object(3)\n",
      "memory usage: 284.9+ KB\n"
     ]
    }
   ],
   "source": [
    "modified_rems['year']=modified_rems['year'].astype(int)\n",
    "modified_rems['values']=modified_rems['values'].replace(\"..\",np.nan).astype(float)\n",
    "modified_rems.dropna(inplace=True)\n",
    "modified_rems.info()\n"
   ]
  },
  {
   "cell_type": "markdown",
   "metadata": {
    "id": "3u-hdI4BPfFn"
   },
   "source": [
    "### Modified Transport Energy"
   ]
  },
  {
   "cell_type": "code",
   "execution_count": null,
   "metadata": {
    "colab": {
     "base_uri": "https://localhost:8080/"
    },
    "id": "hyyHdjWBPi1A",
    "outputId": "9cccab76-1653-4039-a7fc-8c6764b34ac4"
   },
   "outputs": [
    {
     "name": "stdout",
     "output_type": "stream",
     "text": [
      "<class 'pandas.core.frame.DataFrame'>\n",
      "RangeIndex: 10800 entries, 0 to 10799\n",
      "Data columns (total 5 columns):\n",
      " #   Column             Non-Null Count  Dtype \n",
      "---  ------             --------------  ----- \n",
      " 0   Country            10800 non-null  object\n",
      " 1   Mode/vehicle type  10800 non-null  object\n",
      " 2   Product            10800 non-null  object\n",
      " 3   year               10800 non-null  object\n",
      " 4   values             10800 non-null  object\n",
      "dtypes: object(5)\n",
      "memory usage: 422.0+ KB\n"
     ]
    }
   ],
   "source": [
    "modified_te.info()"
   ]
  },
  {
   "cell_type": "code",
   "execution_count": null,
   "metadata": {
    "colab": {
     "base_uri": "https://localhost:8080/"
    },
    "id": "qL6ZZEPGPuit",
    "outputId": "93ee3faf-055e-4a13-a057-e9499ad63397"
   },
   "outputs": [
    {
     "name": "stdout",
     "output_type": "stream",
     "text": [
      "<class 'pandas.core.frame.DataFrame'>\n",
      "Int64Index: 8648 entries, 0 to 10779\n",
      "Data columns (total 5 columns):\n",
      " #   Column             Non-Null Count  Dtype  \n",
      "---  ------             --------------  -----  \n",
      " 0   Country            8648 non-null   object \n",
      " 1   Mode/vehicle type  8648 non-null   object \n",
      " 2   Product            8648 non-null   object \n",
      " 3   year               8648 non-null   int64  \n",
      " 4   values             8648 non-null   float64\n",
      "dtypes: float64(1), int64(1), object(3)\n",
      "memory usage: 405.4+ KB\n"
     ]
    }
   ],
   "source": [
    "modified_te['year']=modified_te['year'].astype(int)\n",
    "modified_te['values']=modified_te['values'].replace(\"..\",np.nan).astype(float)\n",
    "modified_te.dropna(inplace=True)\n",
    "modified_te.info()\n"
   ]
  },
  {
   "cell_type": "markdown",
   "metadata": {
    "id": "teTQL0DnMSXV"
   },
   "source": [
    "### Modified Services Emissions"
   ]
  },
  {
   "cell_type": "code",
   "execution_count": null,
   "metadata": {
    "colab": {
     "base_uri": "https://localhost:8080/"
    },
    "id": "j6eWCp5QNA-w",
    "outputId": "2805efb3-2a70-4002-eb2e-cd35de84fc46"
   },
   "outputs": [
    {
     "name": "stdout",
     "output_type": "stream",
     "text": [
      "<class 'pandas.core.frame.DataFrame'>\n",
      "RangeIndex: 5643 entries, 0 to 5642\n",
      "Data columns (total 5 columns):\n",
      " #   Column   Non-Null Count  Dtype \n",
      "---  ------   --------------  ----- \n",
      " 0   Country  5643 non-null   object\n",
      " 1   End use  5643 non-null   object\n",
      " 2   Product  5643 non-null   object\n",
      " 3   year     5643 non-null   object\n",
      " 4   values   5643 non-null   object\n",
      "dtypes: object(5)\n",
      "memory usage: 220.6+ KB\n"
     ]
    }
   ],
   "source": [
    "modified_sems.info()"
   ]
  },
  {
   "cell_type": "code",
   "execution_count": null,
   "metadata": {
    "colab": {
     "base_uri": "https://localhost:8080/"
    },
    "id": "pXhm3qmCM73w",
    "outputId": "726ebabf-917f-488c-929d-52a30463051f"
   },
   "outputs": [
    {
     "name": "stdout",
     "output_type": "stream",
     "text": [
      "<class 'pandas.core.frame.DataFrame'>\n",
      "Int64Index: 4477 entries, 0 to 5617\n",
      "Data columns (total 5 columns):\n",
      " #   Column   Non-Null Count  Dtype  \n",
      "---  ------   --------------  -----  \n",
      " 0   Country  4477 non-null   object \n",
      " 1   End use  4477 non-null   object \n",
      " 2   Product  4477 non-null   object \n",
      " 3   year     4477 non-null   int64  \n",
      " 4   values   4477 non-null   float64\n",
      "dtypes: float64(1), int64(1), object(3)\n",
      "memory usage: 209.9+ KB\n"
     ]
    }
   ],
   "source": [
    "modified_sems['year']=modified_sems['year'].astype(int)\n",
    "modified_sems['values']=modified_sems['values'].replace(\"..\",np.nan).astype(float)\n",
    "modified_sems.dropna(inplace=True)\n",
    "modified_sems.info()\n"
   ]
  },
  {
   "cell_type": "markdown",
   "metadata": {
    "id": "IFAGvND2NPHm"
   },
   "source": [
    "### Modified Industrial Emissions"
   ]
  },
  {
   "cell_type": "code",
   "execution_count": null,
   "metadata": {
    "colab": {
     "base_uri": "https://localhost:8080/"
    },
    "id": "EebBsAttNY5n",
    "outputId": "1b6d0869-f6dc-4a55-ff89-45e2c417b00c"
   },
   "outputs": [
    {
     "name": "stdout",
     "output_type": "stream",
     "text": [
      "<class 'pandas.core.frame.DataFrame'>\n",
      "RangeIndex: 8235 entries, 0 to 8234\n",
      "Data columns (total 5 columns):\n",
      " #   Column     Non-Null Count  Dtype \n",
      "---  ------     --------------  ----- \n",
      " 0   Country    8235 non-null   object\n",
      " 1   Subsector  8235 non-null   object\n",
      " 2   Product    8235 non-null   object\n",
      " 3   year       8235 non-null   object\n",
      " 4   values     8235 non-null   object\n",
      "dtypes: object(5)\n",
      "memory usage: 321.8+ KB\n"
     ]
    }
   ],
   "source": [
    "modified_iems.info()"
   ]
  },
  {
   "cell_type": "code",
   "execution_count": null,
   "metadata": {
    "colab": {
     "base_uri": "https://localhost:8080/"
    },
    "id": "xFDtejqANSpN",
    "outputId": "78ab59e1-3e2f-490e-e1b0-7df5264eda71"
   },
   "outputs": [
    {
     "name": "stdout",
     "output_type": "stream",
     "text": [
      "<class 'pandas.core.frame.DataFrame'>\n",
      "Int64Index: 7818 entries, 0 to 8189\n",
      "Data columns (total 5 columns):\n",
      " #   Column     Non-Null Count  Dtype  \n",
      "---  ------     --------------  -----  \n",
      " 0   Country    7818 non-null   object \n",
      " 1   Subsector  7818 non-null   object \n",
      " 2   Product    7818 non-null   object \n",
      " 3   year       7818 non-null   int64  \n",
      " 4   values     7818 non-null   float64\n",
      "dtypes: float64(1), int64(1), object(3)\n",
      "memory usage: 366.5+ KB\n"
     ]
    }
   ],
   "source": [
    "modified_iems['year']=modified_iems['year'].astype(int)\n",
    "modified_iems['values']=modified_iems['values'].replace(\"..\",np.nan).astype(float)\n",
    "modified_iems.dropna(inplace=True)\n",
    "modified_iems.info()\n"
   ]
  },
  {
   "cell_type": "markdown",
   "metadata": {
    "id": "nFjnoMLBNph9"
   },
   "source": [
    "### Modified Transport Emissions"
   ]
  },
  {
   "cell_type": "code",
   "execution_count": null,
   "metadata": {
    "colab": {
     "base_uri": "https://localhost:8080/"
    },
    "id": "KmOwAcR-NzS1",
    "outputId": "a2c2de67-8609-49ce-d480-ca9133d38f6a"
   },
   "outputs": [
    {
     "name": "stdout",
     "output_type": "stream",
     "text": [
      "<class 'pandas.core.frame.DataFrame'>\n",
      "RangeIndex: 10800 entries, 0 to 10799\n",
      "Data columns (total 5 columns):\n",
      " #   Column             Non-Null Count  Dtype \n",
      "---  ------             --------------  ----- \n",
      " 0   Country            10800 non-null  object\n",
      " 1   Mode/vehicle type  10800 non-null  object\n",
      " 2   Product            10800 non-null  object\n",
      " 3   year               10800 non-null  object\n",
      " 4   values             10800 non-null  object\n",
      "dtypes: object(5)\n",
      "memory usage: 422.0+ KB\n"
     ]
    }
   ],
   "source": [
    "modified_tems.info()"
   ]
  },
  {
   "cell_type": "code",
   "execution_count": null,
   "metadata": {
    "colab": {
     "base_uri": "https://localhost:8080/"
    },
    "id": "T5JVaeteNthY",
    "outputId": "1f4736c1-5064-4438-b01a-ca302ad6f105"
   },
   "outputs": [
    {
     "name": "stdout",
     "output_type": "stream",
     "text": [
      "<class 'pandas.core.frame.DataFrame'>\n",
      "Int64Index: 5629 entries, 0 to 10769\n",
      "Data columns (total 5 columns):\n",
      " #   Column             Non-Null Count  Dtype  \n",
      "---  ------             --------------  -----  \n",
      " 0   Country            5629 non-null   object \n",
      " 1   Mode/vehicle type  5629 non-null   object \n",
      " 2   Product            5629 non-null   object \n",
      " 3   year               5629 non-null   int64  \n",
      " 4   values             5629 non-null   float64\n",
      "dtypes: float64(1), int64(1), object(3)\n",
      "memory usage: 263.9+ KB\n"
     ]
    }
   ],
   "source": [
    "modified_tems['year']=modified_tems['year'].astype(int)\n",
    "modified_tems['values']=modified_tems['values'].replace(\"..\",np.nan).astype(float)\n",
    "modified_tems.dropna(inplace=True)\n",
    "modified_tems.info()\n"
   ]
  },
  {
   "cell_type": "markdown",
   "metadata": {
    "id": "RZMlAkkDE09R"
   },
   "source": [
    "### Modified Residential Energy Indicators"
   ]
  },
  {
   "cell_type": "code",
   "execution_count": null,
   "metadata": {
    "colab": {
     "base_uri": "https://localhost:8080/"
    },
    "id": "Dcg6DQ4WFML6",
    "outputId": "ca8b070f-05ac-4aa8-95bc-2510ce2759f0"
   },
   "outputs": [
    {
     "name": "stdout",
     "output_type": "stream",
     "text": [
      "<class 'pandas.core.frame.DataFrame'>\n",
      "RangeIndex: 7695 entries, 0 to 7694\n",
      "Data columns (total 5 columns):\n",
      " #   Column     Non-Null Count  Dtype \n",
      "---  ------     --------------  ----- \n",
      " 0   Country    7695 non-null   object\n",
      " 1   End use    7695 non-null   object\n",
      " 2   Indicator  7695 non-null   object\n",
      " 3   year       7695 non-null   object\n",
      " 4   values     7695 non-null   object\n",
      "dtypes: object(5)\n",
      "memory usage: 300.7+ KB\n"
     ]
    }
   ],
   "source": [
    "modified_rei.info()"
   ]
  },
  {
   "cell_type": "code",
   "execution_count": null,
   "metadata": {
    "colab": {
     "base_uri": "https://localhost:8080/"
    },
    "id": "wcke1Zt_Ey76",
    "outputId": "f405d3a6-806c-4978-e9da-2bb1825dcb1d"
   },
   "outputs": [
    {
     "data": {
      "text/plain": [
       "array([19.88, 0.45, 51.9, ..., 17.37, 21.3, 20.41], dtype=object)"
      ]
     },
     "execution_count": 66,
     "metadata": {},
     "output_type": "execute_result"
    }
   ],
   "source": [
    "modified_rei['values'].unique()"
   ]
  },
  {
   "cell_type": "code",
   "execution_count": null,
   "metadata": {
    "colab": {
     "base_uri": "https://localhost:8080/"
    },
    "id": "PWc94PQuHGHX",
    "outputId": "b48b133e-9ffc-4668-cada-89d1795d0f5b"
   },
   "outputs": [
    {
     "name": "stdout",
     "output_type": "stream",
     "text": [
      "<class 'pandas.core.frame.DataFrame'>\n",
      "Int64Index: 4515 entries, 0 to 7663\n",
      "Data columns (total 5 columns):\n",
      " #   Column     Non-Null Count  Dtype  \n",
      "---  ------     --------------  -----  \n",
      " 0   Country    4515 non-null   object \n",
      " 1   End use    4515 non-null   object \n",
      " 2   Indicator  4515 non-null   object \n",
      " 3   year       4515 non-null   int64  \n",
      " 4   values     4515 non-null   float64\n",
      "dtypes: float64(1), int64(1), object(3)\n",
      "memory usage: 211.6+ KB\n"
     ]
    }
   ],
   "source": [
    "modified_rei['year'] = modified_rei['year'].astype(int)\n",
    "modified_rei['values']=modified_rei['values'].replace(\"..\",np.nan).astype(float)\n",
    "modified_rei.dropna(inplace=True)\n",
    "modified_rei.info()"
   ]
  },
  {
   "cell_type": "markdown",
   "metadata": {
    "id": "L3mzCEeZJhtg"
   },
   "source": [
    "### Modified Services Energy Indicator"
   ]
  },
  {
   "cell_type": "code",
   "execution_count": null,
   "metadata": {
    "colab": {
     "base_uri": "https://localhost:8080/"
    },
    "id": "T0-Rm93xJnRW",
    "outputId": "246f773d-fd2f-4d9f-c476-2018fc656862"
   },
   "outputs": [
    {
     "name": "stdout",
     "output_type": "stream",
     "text": [
      "<class 'pandas.core.frame.DataFrame'>\n",
      "RangeIndex: 2565 entries, 0 to 2564\n",
      "Data columns (total 5 columns):\n",
      " #   Column     Non-Null Count  Dtype \n",
      "---  ------     --------------  ----- \n",
      " 0   Country    2565 non-null   object\n",
      " 1   End use    2565 non-null   object\n",
      " 2   Indicator  2565 non-null   object\n",
      " 3   year       2565 non-null   object\n",
      " 4   values     2565 non-null   object\n",
      "dtypes: object(5)\n",
      "memory usage: 100.3+ KB\n"
     ]
    }
   ],
   "source": [
    "modified_sei.info()"
   ]
  },
  {
   "cell_type": "code",
   "execution_count": null,
   "metadata": {
    "colab": {
     "base_uri": "https://localhost:8080/"
    },
    "id": "V9m0Hc6lJyI-",
    "outputId": "00304b10-9953-467a-cdec-5f23e41258c9"
   },
   "outputs": [
    {
     "name": "stdout",
     "output_type": "stream",
     "text": [
      "<class 'pandas.core.frame.DataFrame'>\n",
      "Int64Index: 1597 entries, 0 to 2554\n",
      "Data columns (total 5 columns):\n",
      " #   Column     Non-Null Count  Dtype  \n",
      "---  ------     --------------  -----  \n",
      " 0   Country    1597 non-null   object \n",
      " 1   End use    1597 non-null   object \n",
      " 2   Indicator  1597 non-null   object \n",
      " 3   year       1597 non-null   int64  \n",
      " 4   values     1597 non-null   float64\n",
      "dtypes: float64(1), int64(1), object(3)\n",
      "memory usage: 74.9+ KB\n"
     ]
    }
   ],
   "source": [
    "modified_sei['year']=modified_sei['year'].astype(int)\n",
    "modified_sei['values']=modified_sei['values'].replace(\"..\",np.nan).astype(float)\n",
    "modified_sei.dropna(inplace=True)\n",
    "modified_sei.info()"
   ]
  },
  {
   "cell_type": "markdown",
   "metadata": {
    "id": "jJZkZdx8K35I"
   },
   "source": [
    "### Modified Industrial Energy Indicators"
   ]
  },
  {
   "cell_type": "code",
   "execution_count": null,
   "metadata": {
    "colab": {
     "base_uri": "https://localhost:8080/"
    },
    "id": "iNtPD_ofJ3OH",
    "outputId": "5bcb863a-5cd7-4f1a-e015-2af3e2866b07"
   },
   "outputs": [
    {
     "name": "stdout",
     "output_type": "stream",
     "text": [
      "<class 'pandas.core.frame.DataFrame'>\n",
      "RangeIndex: 4392 entries, 0 to 4391\n",
      "Data columns (total 5 columns):\n",
      " #   Column     Non-Null Count  Dtype \n",
      "---  ------     --------------  ----- \n",
      " 0   Country    4392 non-null   object\n",
      " 1   Subsector  4392 non-null   object\n",
      " 2   Indicator  4392 non-null   object\n",
      " 3   year       4392 non-null   object\n",
      " 4   values     4392 non-null   object\n",
      "dtypes: object(5)\n",
      "memory usage: 171.7+ KB\n"
     ]
    }
   ],
   "source": [
    "modified_iei.info()"
   ]
  },
  {
   "cell_type": "code",
   "execution_count": null,
   "metadata": {
    "colab": {
     "base_uri": "https://localhost:8080/"
    },
    "id": "IljnbAKAJg9Z",
    "outputId": "291a10be-977c-4744-a078-e8c942bbc7b5"
   },
   "outputs": [
    {
     "name": "stdout",
     "output_type": "stream",
     "text": [
      "<class 'pandas.core.frame.DataFrame'>\n",
      "Int64Index: 3150 entries, 0 to 4367\n",
      "Data columns (total 5 columns):\n",
      " #   Column     Non-Null Count  Dtype  \n",
      "---  ------     --------------  -----  \n",
      " 0   Country    3150 non-null   object \n",
      " 1   Subsector  3150 non-null   object \n",
      " 2   Indicator  3150 non-null   object \n",
      " 3   year       3150 non-null   int64  \n",
      " 4   values     3150 non-null   float64\n",
      "dtypes: float64(1), int64(1), object(3)\n",
      "memory usage: 147.7+ KB\n"
     ]
    }
   ],
   "source": [
    "modified_iei['year']=modified_iei['year'].astype(int)\n",
    "modified_iei['values']=modified_iei['values'].replace(\"..\",np.nan).astype(float)\n",
    "modified_iei.dropna(inplace=True)\n",
    "modified_iei.info()"
   ]
  },
  {
   "cell_type": "markdown",
   "metadata": {
    "id": "PY3g2Pu_LpDm"
   },
   "source": [
    "### Modified Transport Energy Indicator"
   ]
  },
  {
   "cell_type": "code",
   "execution_count": null,
   "metadata": {
    "colab": {
     "base_uri": "https://localhost:8080/"
    },
    "id": "uPrI5l9mL2rb",
    "outputId": "425f5352-0e77-4fe7-ab87-d83952dfcd43"
   },
   "outputs": [
    {
     "name": "stdout",
     "output_type": "stream",
     "text": [
      "<class 'pandas.core.frame.DataFrame'>\n",
      "RangeIndex: 8640 entries, 0 to 8639\n",
      "Data columns (total 5 columns):\n",
      " #   Column             Non-Null Count  Dtype \n",
      "---  ------             --------------  ----- \n",
      " 0   Country            8640 non-null   object\n",
      " 1   Mode/vehicle type  8640 non-null   object\n",
      " 2   Indicator          8640 non-null   object\n",
      " 3   year               8640 non-null   object\n",
      " 4   values             8640 non-null   object\n",
      "dtypes: object(5)\n",
      "memory usage: 337.6+ KB\n"
     ]
    }
   ],
   "source": [
    "modified_tei.info()"
   ]
  },
  {
   "cell_type": "code",
   "execution_count": null,
   "metadata": {
    "colab": {
     "base_uri": "https://localhost:8080/"
    },
    "id": "9NRPXsHvLutv",
    "outputId": "68bb66cb-ef2f-416e-a78d-c8a09c682a6f"
   },
   "outputs": [
    {
     "name": "stdout",
     "output_type": "stream",
     "text": [
      "<class 'pandas.core.frame.DataFrame'>\n",
      "Int64Index: 4068 entries, 0 to 8506\n",
      "Data columns (total 5 columns):\n",
      " #   Column             Non-Null Count  Dtype  \n",
      "---  ------             --------------  -----  \n",
      " 0   Country            4068 non-null   object \n",
      " 1   Mode/vehicle type  4068 non-null   object \n",
      " 2   Indicator          4068 non-null   object \n",
      " 3   year               4068 non-null   int64  \n",
      " 4   values             4068 non-null   float64\n",
      "dtypes: float64(1), int64(1), object(3)\n",
      "memory usage: 190.7+ KB\n"
     ]
    }
   ],
   "source": [
    "modified_tei['year']=modified_tei['year'].astype(int)\n",
    "modified_tei['values']=modified_tei['values'].replace(\"..\",np.nan).astype(float)\n",
    "modified_tei.dropna(inplace=True)\n",
    "modified_tei.info()"
   ]
  },
  {
   "cell_type": "markdown",
   "metadata": {
    "id": "dGGKhN7GB0un"
   },
   "source": [
    "### Modified Transport Carbon Indicators"
   ]
  },
  {
   "cell_type": "code",
   "execution_count": null,
   "metadata": {
    "colab": {
     "base_uri": "https://localhost:8080/"
    },
    "id": "AqHL71SICFqb",
    "outputId": "2a0a198b-168e-42d5-92f8-911da7336b09"
   },
   "outputs": [
    {
     "name": "stdout",
     "output_type": "stream",
     "text": [
      "<class 'pandas.core.frame.DataFrame'>\n",
      "RangeIndex: 3240 entries, 0 to 3239\n",
      "Data columns (total 5 columns):\n",
      " #   Column             Non-Null Count  Dtype \n",
      "---  ------             --------------  ----- \n",
      " 0   Country            3240 non-null   object\n",
      " 1   Mode/vehicle type  3240 non-null   object\n",
      " 2   Indicator          3240 non-null   object\n",
      " 3   year               3240 non-null   object\n",
      " 4   values             3240 non-null   object\n",
      "dtypes: object(5)\n",
      "memory usage: 126.7+ KB\n"
     ]
    }
   ],
   "source": [
    "modified_tci.info()"
   ]
  },
  {
   "cell_type": "code",
   "execution_count": null,
   "metadata": {
    "colab": {
     "base_uri": "https://localhost:8080/"
    },
    "id": "nqh1cRZsCcnG",
    "outputId": "b51e8050-eb48-44f7-a64d-5b84e7a72f17"
   },
   "outputs": [
    {
     "data": {
      "text/plain": [
       "array([2.07, 0.16, 0.26, 1.16, 0.5, 1.3, 0.19, 0.53, 0.11, 0.46, 1.24,\n",
       "       0.12, 0.18, 0.8, 2.12, 0.14, 0.23, 1.59, 0.2, 0.63, 0.69, 0.22,\n",
       "       0.32, 0.08, 0.4, 1.25, 0.13, 0.75, 0.17, 0.54, '..', 1.12, 0.1,\n",
       "       0.15, 0.79, 0.58, 0.24, 0.43, 0.57, 0.78, 0.6, 0.42, 0.09, 0.27,\n",
       "       0.36, 1.23, 0.66, 1.19, 0.62, 1.08, 0.21, 0.67, 0.39, 1.33, 0.65,\n",
       "       0.51, 0.07, 0.29, 1.5, 0.48, 0.03, 1.04, 5.94, 0.49, 0.83, 1.09,\n",
       "       0.25, 0.59, 0.84, 0.85, 0.37, 0.35, 0.04, 0.76, 1.13, 1.36, 1.43,\n",
       "       0.45, 3.85, 1.17, 0.72, 0.33, 1.02, 0.3, 0.31, 2.13, 1.26, 0.89,\n",
       "       2.11, 1.76, 0.93, 0.55, 1.22, 1.15, 0.7, 0.41, 1.28, 0.52, 0.95,\n",
       "       0.64, 1.4, 0.74, 1, 0.77, 0.73, 1.79, 1.32, 6.78, 0.88, 0.91, 0.38,\n",
       "       1.41, 0.71, 3.95, 1.29, 0.68, 0.56, 1.92, 1.34, 1.35, 0.44, 0.82,\n",
       "       0.47, 2.04, 1.94, 0.96, 1.2, 0.87, 0.9, 1.37, 0.99, 1.14, 0.86,\n",
       "       1.74, 0.06, 1.05, 6.52, 1.31, 0.94, 1.03, 1.39, 3.51, 1.56, 1.82,\n",
       "       1.42, 1.38, 0.61, 0.81, 1.87, 1.06, 0.34, 1.53, 5.92, 3.61, 1.68,\n",
       "       0.28, 1.83, 1.98, 1.8, 0.92, 1.6, 3.5, 1.67, 1.63, 1.75, 1.44,\n",
       "       1.97, 1.85, 1.21, 1.48, 6.13, 1.52, 3.48, 1.65, 1.69, 1.73, 1.46,\n",
       "       1.96, 1.91, 0.05, 5.98, 1.27, 3.45, 1.66, 1.95, 1.89, 0.98, 5.87,\n",
       "       1.57, 1.72, 1.55, 1.45, 1.61, 4.51, 1.07, 3.06, 1.64], dtype=object)"
      ]
     },
     "execution_count": 45,
     "metadata": {},
     "output_type": "execute_result"
    }
   ],
   "source": [
    "modified_tci['values'].unique()"
   ]
  },
  {
   "cell_type": "code",
   "execution_count": null,
   "metadata": {
    "colab": {
     "base_uri": "https://localhost:8080/"
    },
    "id": "KqMeVr20C62z",
    "outputId": "3893cb31-1976-44e4-a151-becf51fccc32"
   },
   "outputs": [
    {
     "name": "stdout",
     "output_type": "stream",
     "text": [
      "<class 'pandas.core.frame.DataFrame'>\n",
      "Int64Index: 1498 entries, 0 to 3083\n",
      "Data columns (total 5 columns):\n",
      " #   Column             Non-Null Count  Dtype  \n",
      "---  ------             --------------  -----  \n",
      " 0   Country            1498 non-null   object \n",
      " 1   Mode/vehicle type  1498 non-null   object \n",
      " 2   Indicator          1498 non-null   object \n",
      " 3   year               1498 non-null   int64  \n",
      " 4   values             1498 non-null   float64\n",
      "dtypes: float64(1), int64(1), object(3)\n",
      "memory usage: 70.2+ KB\n"
     ]
    }
   ],
   "source": [
    "modified_tci['year']=modified_tci['year'].astype(int)\n",
    "modified_tci['values']=modified_tci['values'].replace(\"..\",np.nan).astype(float)\n",
    "modified_tci.dropna(inplace=True)\n",
    "modified_tci.info()"
   ]
  },
  {
   "cell_type": "markdown",
   "metadata": {
    "id": "VCT3OV7syNb4"
   },
   "source": [
    "### Modified Services Carbon Indicators"
   ]
  },
  {
   "cell_type": "code",
   "execution_count": null,
   "metadata": {
    "colab": {
     "base_uri": "https://localhost:8080/"
    },
    "id": "nFZTQtyQyVQT",
    "outputId": "cc38b1ca-1b6e-456e-f03a-f79592e94fa6"
   },
   "outputs": [
    {
     "name": "stdout",
     "output_type": "stream",
     "text": [
      "<class 'pandas.core.frame.DataFrame'>\n",
      "RangeIndex: 2052 entries, 0 to 2051\n",
      "Data columns (total 5 columns):\n",
      " #   Column     Non-Null Count  Dtype \n",
      "---  ------     --------------  ----- \n",
      " 0   Country    2052 non-null   object\n",
      " 1   End use    2052 non-null   object\n",
      " 2   Indicator  2052 non-null   object\n",
      " 3   year       2052 non-null   object\n",
      " 4   values     2052 non-null   object\n",
      "dtypes: object(5)\n",
      "memory usage: 80.3+ KB\n"
     ]
    }
   ],
   "source": [
    "modified_sci.info()"
   ]
  },
  {
   "cell_type": "code",
   "execution_count": null,
   "metadata": {
    "id": "O0hC86scyZv5"
   },
   "outputs": [],
   "source": [
    "#Changing the year column to int\n",
    "modified_sci['year']=modified_sci['year'].astype(int)"
   ]
  },
  {
   "cell_type": "code",
   "execution_count": null,
   "metadata": {
    "colab": {
     "base_uri": "https://localhost:8080/"
    },
    "id": "nuDUqPC6ynBY",
    "outputId": "0cdda112-4257-4cec-994e-b6c55c243c4d"
   },
   "outputs": [
    {
     "data": {
      "text/plain": [
       "array([2.3, 0.13, '..', 6.59, 0.81, 0.03, 3.25, 0.99, 0.04, 3.29, 1.96,\n",
       "       0.08, 0.1, 5.5, 1.77, 1.48, 0.05, 3.83, 2.12, 0.2, 8.36, 1.1, 0.06,\n",
       "       3.71, 0.67, 2.2, 1.61, 4.71, 1.2, 0.07, 4.61, 4.16, 5.63, 0.77,\n",
       "       2.82, 1.43, 0.11, 4.27, 1.47, 0.12, 5.34, 0.33, 1.51, 1.44, 0.02,\n",
       "       3.26, 0.19, 0.93, 1.4, 3.47, 0.56, 2.16, 0.22, 0.01, 1.08, 5.62,\n",
       "       0.72, 2.71, 1.24, 5.57, 0.71, 2.95, 0.45, 1.25, 0.8, 2.02, 0.26,\n",
       "       1.36, 3.48, 3.7, 0.16, 9.95, 0.29, 0.73, 0.24, 0.44, 0.14, 0.15,\n",
       "       1.87, 0.42, 1.8, 0.75, 3.96, 0.4, 0.58, 3.04, 0.37, 1.97, 1.73,\n",
       "       5.21, 2.18, 16.6, 0.39, 1.31, 5.22, 0.57, 0.17, 1.23, 1.04, 4.41,\n",
       "       0.3, 0.52, 0.36, 2.92, 7.81, 3.87, 4.14, 1.86, 0.09, 4.94, 6.57,\n",
       "       1.33, 3.36, 2.81, 10.14, 1.13, 3.54, 0.69, 2.23, 1.56, 4.45, 5.06,\n",
       "       3.9, 1.72, 5.42, 0.96, 3.32, 4.23, 1.78, 5.79, 0.38, 1.58, 1.93,\n",
       "       1.5, 3.66, 0.79, 2.72, 6.69, 0.98, 3.43, 3.91, 2.8, 2, 0.34, 2.52,\n",
       "       1.26, 3.02, 3.59, 9.48, 0.82, 0.21, 0.25, 1, 0.23, 0.46, 1.66,\n",
       "       0.76, 3.64, 0.78, 3.34, 2.17, 5.89, 3.07, 19.83, 0.51, 1.59, 5.99,\n",
       "       0.31, 1.88, 0.92, 3.56, 0.64, 0.5, 2.91, 7.58, 2.63, 1.22, 3.75,\n",
       "       1.64, 1.85, 6.74, 3.68, 13.39, 1.55, 0.7, 4.1, 1.32, 4.32, 0.86,\n",
       "       3.27, 4.89, 0.95, 1.45, 3.97, 2.15, 6.51, 0.43, 1.62, 1.94, 3.53,\n",
       "       0.63, 0.94, 1.53, 6.73, 0.54, 1.84, 1.07, 0.59, 1.99, 1.12, 2.69,\n",
       "       3.23, 8.81, 0.74, 1.54, 0.55, 1.98, 0.27, 1.16, 4.11, 0.47, 2.09,\n",
       "       2.31, 6.23, 3.03, 17.49, 0.68, 2.13, 7.1, 2.19, 0.89, 1.06, 3.72,\n",
       "       0.18, 1.21, 6.92, 5.53, 1.7, 3.09, 9.78, 0.84, 2.47, 1.02, 1.41,\n",
       "       2.64, 4.31, 2.03, 5.69, 3.58, 1.69, 1.34, 5.56, 2.48, 2.04, 2.14,\n",
       "       1.28, 2.85, 0.41, 1.68, 2.84, 1.03, 3.86, 4.96, 1.14, 3.16, 0.35,\n",
       "       1.52, 0.6, 6.86, 3.99, 5.59, 1.83, 3.52, 10.93, 0.9, 1.65, 1.01,\n",
       "       1.46, 4.35, 2.59, 4.36, 2.1, 5.82, 3.45, 0.83, 1.39, 5.7, 1.92,\n",
       "       1.71, 3.95, 2.7, 7.12, 0.49, 2.05, 0.48, 0.32, 3.5, 1.9, 2.11,\n",
       "       2.75, 6.7, 2.76, 1.6, 4.05, 5.43, 0.61, 10.53, 2.51, 1.37, 3.42,\n",
       "       3.3, 1.89, 2.56, 4.2, 5.78, 1.19, 3.28, 1.35, 2.5, 4.13, 1.63,\n",
       "       2.57, 2.86, 4.93, 0.85, 2.87, 0.91, 2.73, 1.57, 5.28, 9.94, 1.29,\n",
       "       3.21, 3.06, 1.75, 3.65, 4.01, 5.91, 1.17, 2.99, 0.53, 2.6, 1.49,\n",
       "       3.12, 3.17, 4.79, 2.89, 0.88, 2.45, 2.41, 1.81, 5.12, 2.27, 1.15,\n",
       "       2.83, 2.53, 3.14, 5.54, 2.77, 4.8, 1.67, 1.38, 3.84, 6.31, 2.96,\n",
       "       0.97, 2.94, 4.59, 2.24, 3.93, 4.28, 3.46, 1.79, 1.05, 0.62, 3.67,\n",
       "       5.11, 1.09, 2.38, 1.76, 1.11, 4.38, 3.92, 5.87, 3.78, 2.01, 0.28,\n",
       "       1.27, 0.65, 2.08], dtype=object)"
      ]
     },
     "execution_count": 49,
     "metadata": {},
     "output_type": "execute_result"
    }
   ],
   "source": [
    "#Fixing the energy column\n",
    "modified_sci['values'].unique()"
   ]
  },
  {
   "cell_type": "code",
   "execution_count": null,
   "metadata": {
    "id": "ZJ_D7lTpy7PO"
   },
   "outputs": [],
   "source": [
    "#Replace the \"..\" as nan and change data type to float\n",
    "modified_sci['values']=modified_sci['values'].replace(\"..\",np.nan).astype(float)"
   ]
  },
  {
   "cell_type": "code",
   "execution_count": null,
   "metadata": {
    "id": "BdXXiVHRzlZh"
   },
   "outputs": [],
   "source": [
    "#Dropping the null values\n",
    "modified_sci.dropna(inplace=True)"
   ]
  },
  {
   "cell_type": "code",
   "execution_count": null,
   "metadata": {
    "colab": {
     "base_uri": "https://localhost:8080/"
    },
    "id": "6Wndz3Lqzurz",
    "outputId": "b154c592-e95f-4b6a-a075-d70f91a69296"
   },
   "outputs": [
    {
     "name": "stdout",
     "output_type": "stream",
     "text": [
      "<class 'pandas.core.frame.DataFrame'>\n",
      "Int64Index: 1448 entries, 0 to 2043\n",
      "Data columns (total 5 columns):\n",
      " #   Column     Non-Null Count  Dtype  \n",
      "---  ------     --------------  -----  \n",
      " 0   Country    1448 non-null   object \n",
      " 1   End use    1448 non-null   object \n",
      " 2   Indicator  1448 non-null   object \n",
      " 3   year       1448 non-null   int64  \n",
      " 4   values     1448 non-null   float64\n",
      "dtypes: float64(1), int64(1), object(3)\n",
      "memory usage: 67.9+ KB\n"
     ]
    }
   ],
   "source": [
    "modified_sci.info()"
   ]
  },
  {
   "cell_type": "markdown",
   "metadata": {
    "id": "JVbh3F6LpHZA"
   },
   "source": [
    "### Modified Residential Carbon Indicators"
   ]
  },
  {
   "cell_type": "code",
   "execution_count": null,
   "metadata": {
    "colab": {
     "base_uri": "https://localhost:8080/"
    },
    "id": "Jm1OSJ4-pNjA",
    "outputId": "84d0d17f-b2aa-4123-e276-9e2045c7e871"
   },
   "outputs": [
    {
     "name": "stdout",
     "output_type": "stream",
     "text": [
      "<class 'pandas.core.frame.DataFrame'>\n",
      "RangeIndex: 5643 entries, 0 to 5642\n",
      "Data columns (total 5 columns):\n",
      " #   Column     Non-Null Count  Dtype \n",
      "---  ------     --------------  ----- \n",
      " 0   Country    5643 non-null   object\n",
      " 1   End use    5643 non-null   object\n",
      " 2   Indicator  5643 non-null   object\n",
      " 3   year       5643 non-null   object\n",
      " 4   values     5643 non-null   object\n",
      "dtypes: object(5)\n",
      "memory usage: 220.6+ KB\n"
     ]
    }
   ],
   "source": [
    "modified_rci.info()"
   ]
  },
  {
   "cell_type": "code",
   "execution_count": null,
   "metadata": {
    "id": "oUuKlWBMpgvt"
   },
   "outputs": [],
   "source": [
    "#Converting the year column to int\n",
    "modified_rci['year']=modified_rci['year'].astype(int)"
   ]
  },
  {
   "cell_type": "code",
   "execution_count": null,
   "metadata": {
    "colab": {
     "base_uri": "https://localhost:8080/"
    },
    "id": "jd7yePkyp5s4",
    "outputId": "cb1b3ead-c5c7-4268-bebf-68101f8c0ca2"
   },
   "outputs": [
    {
     "data": {
      "text/plain": [
       "array([2.89, 0.07, 7.53, 100, 1.69, 0.05, 4.21, '..', 2.7, 0.08, 6.67,\n",
       "       2.59, 6.82, 2.88, 0.11, 7.85, 2.61, 5.61, 3.04, 1.78, 0.04, 3.81,\n",
       "       1.37, 3.34, 2.64, 6.09, 2.01, 5.68, 1.61, 0.06, 4.39, 3.08, 0.09,\n",
       "       9.57, 1.46, 3.86, 1.47, 4.13, 1.12, 3.63, 0.69, 0.03, 2.47, 9.15,\n",
       "       0.5, 2.2, 1.87, 4.7, 0.74, 0.02, 2.03, 0.19, 0.45, 1.94, 6.69,\n",
       "       0.78, 2.4, 4.77, 0.96, 2.99, 0.92, 1.58, 3.55, 0.63, 2.71, 2.43,\n",
       "       5.82, 4.28, 11.79, 2.66, 0.14, 0.38, 1.52, 0.15, 0.68, 0.82, 1.43,\n",
       "       3.85, 1.48, 1.34, 0.9, 1.8, 0.41, 1.01, 163, 68, 1.65, 0.65, 0.91,\n",
       "       2.6, 4.2, 0.25, 0.59, 0.99, 0.2, 3.11, 8.38, 107, 110, 123, 126,\n",
       "       113, 1.75, 4.14, 98, 93, 167, 138, 186, 171, 2.68, 6.51, 2.42,\n",
       "       6.21, 90, 92, 86, 84, 83, 2.77, 0.1, 7.28, 94, 91, 78, 79, 2.32,\n",
       "       4.82, 75, 88, 3.05, 3.7, 103, 67, 1.4, 3.3, 111, 2.62, 5.86, 96,\n",
       "       95, 2.28, 6.13, 124, 120, 106, 101, 1.71, 115, 8.97, 102, 80, 4.03,\n",
       "       117, 105, 4.22, 1.35, 4.07, 130, 150, 109, 0.71, 1.81, 8.67, 0.46,\n",
       "       1.89, 1.82, 4.5, 0.98, 2.65, 128, 129, 139, 153, 0.44, 2.25, 7.25,\n",
       "       0.88, 2.33, 125, 104, 1.32, 77, 74, 1.14, 3.28, 119, 0.76, 1.62,\n",
       "       82, 1.67, 3.74, 108, 0.67, 2.75, 121, 70, 2.5, 5.93, 4.17, 11.41,\n",
       "       76, 50, 97, 2.76, 114, 112, 0.13, 0.3, 1.11, 4.44, 0.37, 0.16, 1.6,\n",
       "       3.75, 2.37, 0.24, 1.33, 33, 188, 1.76, 0.85, 1.42, 4.41, 0.23,\n",
       "       0.28, 0.21, 8.77, 3.69, 133, 164, 151, 2.24, 5.39, 2.18, 5.54, 81,\n",
       "       7.01, 56, 54, 4.74, 89, 85, 3.56, 4.68, 135, 170, 156, 1.21, 2.8,\n",
       "       122, 5.63, 1.85, 5.01, 3.66, 2.85, 7.86, 71, 1.36, 3.39, 65, 4.18,\n",
       "       99, 4.31, 140, 141, 1.79, 200, 175, 2.52, 6.42, 1.7, 2.06, 4.97,\n",
       "       0.62, 0.01, 1.68, 0.29, 0.66, 7.41, 131, 60, 69, 61, 1.13, 3.52,\n",
       "       51, 63, 0.64, 64, 1.53, 3.42, 0.73, 2.78, 2.29, 5.47, 10.67, 72,\n",
       "       73, 3.26, 118, 143, 0.47, 0.32, 1.09, 4.15, 1.55, 0.48, 1.66, 0.77,\n",
       "       0.93, 1.05, 1.5, 1.59, 0.94, 2.12, 0.33, 1.31, 2.19, 1.54, 1.26,\n",
       "       0.86, 2.44, 4.01, 2.56, 7.45, 1.24, 2.81, 1.77, 1.99, 5.02, 62,\n",
       "       2.3, 5.8, 25, 1.3, 57, 55, 31, 1.27, 2.49, 38, 35, 58, 2, 40, 3.8,\n",
       "       66, 2.79, 52, 47, 5.69, 53, 1.16, 2.87, 4.1, 134, 3.84, 0.43, 0.89,\n",
       "       44, 4.94, 37, 0.4, 3.91, 0.49, 0.17, 0.39, 5.95, 0.61, 59, 2.23,\n",
       "       42, 2.53, 0.72, 144, 3.82, 3.23, 8.83, 45, 3.46, 158, 300, 286,\n",
       "       1.1, 3.98, 1.19, 3.14, 87, 1.73, 1.51, 0.8, 43, 0.54, 7.48, 1.25,\n",
       "       2.84, 4.02, 4.67, 2.41, 6.03, 2.83, 39, 2.05, 3.64, 2.91, 2.17,\n",
       "       1.15, 41, 1.74, 4.16, 4.04, 165, 48, 1.93, 13, 15, 1.49, 3.93, 116,\n",
       "       0.42, 0.18, 2.07, 6, 46, 0.95, 176, 149, 127, 49, 3.01, 8.23, 1.03,\n",
       "       3.59, 0.55, 250, 214, 1.18, 0.57, 0.7, 1.17, 3.88, 2.11, 0.87, 1,\n",
       "       0.34, 7.16, 1.29, 2.92, 3.94, 2.39, 5.97, 2.36, 28, 27, 29, 2.08,\n",
       "       4.46, 3.27, 2.02, 5.48, 4.06, 1.91, 4.76, 19, 17, 5.92, 2.93, 0.83,\n",
       "       2.1, 2.45, 0.81, 1.39, 7.99, 157, 146, 0.53, 1.04, 1.41, 0.79,\n",
       "       0.36, 18, 6.75, 1.64, 1.86, 2.26, 5.62, 22, 30, 2.46, 1.23, 1.83,\n",
       "       1.98, 4.23, 3.83, 1.56, 4.05, 162, 4.38, 10, 1.44, 3.58, 5.71,\n",
       "       2.22, 136, 1.38, 3.24, 36, 34, 3.07, 8.26, 3.09, 1.02, 1.28, 6.46,\n",
       "       3.72, 2.09, 5.17, 21, 2.04, 24, 20, 1.9, 4.98, 2.55, 1.57, 3.67,\n",
       "       3.78, 168, 0.12, 0.27, 5.04, 2.73, 2.63, 194, 7.81, 0.51, 4.11,\n",
       "       0.58, 3.06, 1.2, 1.92, 0.6, 2.13, 6.3, 1.97, 4.86, 32, 0.75, 1.08,\n",
       "       2.9, 5.25, 4.19, 7, 26, 4.88, 2.67, 3.02, 2.15, 1.07, 148],\n",
       "      dtype=object)"
      ]
     },
     "execution_count": 55,
     "metadata": {},
     "output_type": "execute_result"
    }
   ],
   "source": [
    "#Viewing the unique values\n",
    "modified_rci['values'].unique()"
   ]
  },
  {
   "cell_type": "code",
   "execution_count": null,
   "metadata": {
    "id": "m7e9eYWaqAXs"
   },
   "outputs": [],
   "source": [
    "#Replacing the \"..\" with nan and converting to float \n",
    "modified_rci['values']=modified_rci['values'].replace(\"..\",np.nan).astype(float)"
   ]
  },
  {
   "cell_type": "code",
   "execution_count": null,
   "metadata": {
    "id": "S6TnEsSKrjkW"
   },
   "outputs": [],
   "source": [
    "#Dropping the null values\n",
    "modified_rci=modified_rci.dropna()"
   ]
  },
  {
   "cell_type": "code",
   "execution_count": null,
   "metadata": {
    "colab": {
     "base_uri": "https://localhost:8080/"
    },
    "id": "r40FLsz2qaqx",
    "outputId": "5f326bd0-f48c-4dc5-ca40-6cc6df4290fb"
   },
   "outputs": [
    {
     "name": "stdout",
     "output_type": "stream",
     "text": [
      "<class 'pandas.core.frame.DataFrame'>\n",
      "Int64Index: 3065 entries, 0 to 5619\n",
      "Data columns (total 5 columns):\n",
      " #   Column     Non-Null Count  Dtype  \n",
      "---  ------     --------------  -----  \n",
      " 0   Country    3065 non-null   object \n",
      " 1   End use    3065 non-null   object \n",
      " 2   Indicator  3065 non-null   object \n",
      " 3   year       3065 non-null   int64  \n",
      " 4   values     3065 non-null   float64\n",
      "dtypes: float64(1), int64(1), object(3)\n",
      "memory usage: 143.7+ KB\n"
     ]
    }
   ],
   "source": [
    "#Verifying the data types\n",
    "modified_rci.info()"
   ]
  },
  {
   "cell_type": "markdown",
   "metadata": {
    "id": "KPmUIW1_o6XY"
   },
   "source": [
    "### Modified Industrial Carbon Indicators"
   ]
  },
  {
   "cell_type": "code",
   "execution_count": null,
   "metadata": {
    "colab": {
     "base_uri": "https://localhost:8080/"
    },
    "id": "teTesimrdwX1",
    "outputId": "900064b0-e24e-4f90-ed95-08f28c64d606"
   },
   "outputs": [
    {
     "name": "stdout",
     "output_type": "stream",
     "text": [
      "<class 'pandas.core.frame.DataFrame'>\n",
      "RangeIndex: 4392 entries, 0 to 4391\n",
      "Data columns (total 5 columns):\n",
      " #   Column     Non-Null Count  Dtype \n",
      "---  ------     --------------  ----- \n",
      " 0   Country    4392 non-null   object\n",
      " 1   Subsector  4392 non-null   object\n",
      " 2   Indicator  4392 non-null   object\n",
      " 3   year       4392 non-null   object\n",
      " 4   values     4392 non-null   object\n",
      "dtypes: object(5)\n",
      "memory usage: 171.7+ KB\n"
     ]
    }
   ],
   "source": [
    "modified_ici.info()"
   ]
  },
  {
   "cell_type": "markdown",
   "metadata": {
    "id": "y3R9ep92fh5o"
   },
   "source": [
    "we can see that year and energy are read as object type, we will cahnge it to numerical format. Year as int and Energy as Float."
   ]
  },
  {
   "cell_type": "code",
   "execution_count": null,
   "metadata": {
    "id": "6-4lSbKhfYqk"
   },
   "outputs": [],
   "source": [
    "#Converting the year column to int format\n",
    "modified_ici['year'] = modified_ici['year'].astype(int)"
   ]
  },
  {
   "cell_type": "code",
   "execution_count": null,
   "metadata": {
    "colab": {
     "base_uri": "https://localhost:8080/"
    },
    "id": "y4cfb1Ohkp9U",
    "outputId": "ec407ce1-3ebc-4f9e-9653-59dd689f4a57"
   },
   "outputs": [
    {
     "data": {
      "text/plain": [
       "array([1.53, '..', 100, 0.34, 0.73, 0.76, 1.4, 0.35, 1.61, 0.72, 0.32,\n",
       "       0.41, 0.81, 0.42, 0.23, 0.51, 0.78, 0.31, 0.44, 0.36, 0.67, 0.55,\n",
       "       0.52, 1.82, 0.46, 0.21, 0.08, 0.62, 0.48, 0.75, 0.37, 1.17, 3.25,\n",
       "       0.82, 0.57, 0.03, 0.17, 1.43, 102, 89, 120, 105, 75, 110, 96, 104,\n",
       "       94, 167, 0.53, 79, 91, 64, 119, 164, 0.7, 76, 90, 85, 103, 0.98,\n",
       "       98, 88, 146, 65, 83, 63, 74, 106, 107, 1.2, 84, 87, 56, 86, 68, 93,\n",
       "       101, 0.3, 122, 116, 111, 150, 0.38, 118, 123, 0.54, 45, 67, 80,\n",
       "       0.26, 70, 48, 78, 54, 73, 0.16, 59, 175, 58, 92, 109, 132, 0.45,\n",
       "       129, 0.56, 260, 39, 61, 163, 60, 200, 216, 0.63, 81, 108, 0.49,\n",
       "       124, 25, 114, 144, 147, 52, 117, 66, 0.99, 69, 71, 46, 33, 121,\n",
       "       142, 126, 0.18, 95, 143, 135, 0.07, 50, 133, 112, 0.29, 0.33, 321,\n",
       "       0.43, 99, 77, 37, 127, 97, 0.89, 333, 218, 131, 3.1, 55, 44, 0.61,\n",
       "       0.47, 0.02, 82, 125, 189, 256, 62, 157, 0.25, 136, 1.12, 159, 49,\n",
       "       113, 145, 0.2, 165, 28, 0.11, 31, 174, 57, 153, 138, 208, 0.19, 72,\n",
       "       43, 237, 128, 134, 40, 47, 36, 0.6, 26, 51, 30, 42, 182, 0.06, 41,\n",
       "       0.24, 305, 171, 187, 32, 0.71, 433, 291, 300, 3.15, 215, 38, 53,\n",
       "       0.01, 0.13, 1.25, 160, 29, 22, 209, 14, 205, 139, 140, 600, 0.05,\n",
       "       206, 34, 0.4, 0.5, 224, 11, 20, 226, 250, 0.27, 35, 23, 0.12, 24,\n",
       "       170, 283, 325, 166, 115, 279, 1.58, 1.09, 0.15, 0.14, 0.96, 686,\n",
       "       0.39, 0.22, 169, 367, 800, 336, 554, 17, 1.69, 2983, 0.28, 1.28,\n",
       "       130, 27, 191, 0.65, 15, 211, 18, 149, 201, 212, 0.1, 258, 192, 12,\n",
       "       241, 0.04, 141, 178, 158, 268, 1.51, 1.15, 154, 230, 21, 9, 1.08,\n",
       "       514, 0.68, 350, 1067, 318, 762, 700, 1.73, 2567, 1.21, 0.58, 148,\n",
       "       236, 5, 288, 0.09, 247, 137, 183, 155, 217, 313, 263, 1.42, 0.87,\n",
       "       239, 400, 467, 345, 954, 1.75, 3417, 1.16, 13, 255, 10, 195, 196,\n",
       "       233, 19, 253, 1.46, 222, 7, 0.69, 257, 267, 677, 900, 1.64, 3117,\n",
       "       1.13, 161, 273, 6, 172, 225, 274, 0.9, 248, 3, 0.83, 429, 769,\n",
       "       1000, 1.06, 221, 188, 235, 1100, 242], dtype=object)"
      ]
     },
     "execution_count": 61,
     "metadata": {},
     "output_type": "execute_result"
    }
   ],
   "source": [
    "#Converting the energy column to float format\n",
    "modified_ici['values'].unique()"
   ]
  },
  {
   "cell_type": "markdown",
   "metadata": {
    "id": "8KgAXkzqk5G3"
   },
   "source": [
    "we can see that \"..\" is present in the data, so replacing that as null"
   ]
  },
  {
   "cell_type": "code",
   "execution_count": null,
   "metadata": {
    "id": "KgT4CQxAlXQi"
   },
   "outputs": [],
   "source": [
    "#Replacing the \"..\" with nan and converting as float data type\n",
    "modified_ici['values']=modified_ici['values'].replace(\"..\",np.nan).astype(float)"
   ]
  },
  {
   "cell_type": "code",
   "execution_count": null,
   "metadata": {
    "id": "IsNdvX8-l-r1"
   },
   "outputs": [],
   "source": [
    "#Finding and drop all the null records\n",
    "modified_ici=modified_ici.dropna()"
   ]
  },
  {
   "cell_type": "code",
   "execution_count": null,
   "metadata": {
    "colab": {
     "base_uri": "https://localhost:8080/"
    },
    "id": "DBFrG7aWm4yk",
    "outputId": "80e3074c-1352-4be7-9629-a8142a785185"
   },
   "outputs": [
    {
     "name": "stdout",
     "output_type": "stream",
     "text": [
      "<class 'pandas.core.frame.DataFrame'>\n",
      "Int64Index: 3111 entries, 0 to 4367\n",
      "Data columns (total 5 columns):\n",
      " #   Column     Non-Null Count  Dtype  \n",
      "---  ------     --------------  -----  \n",
      " 0   Country    3111 non-null   object \n",
      " 1   Subsector  3111 non-null   object \n",
      " 2   Indicator  3111 non-null   object \n",
      " 3   year       3111 non-null   int64  \n",
      " 4   values     3111 non-null   float64\n",
      "dtypes: float64(1), int64(1), object(3)\n",
      "memory usage: 145.8+ KB\n"
     ]
    }
   ],
   "source": [
    "modified_ici.info()"
   ]
  },
  {
   "cell_type": "markdown",
   "metadata": {
    "id": "ERoEi4c_QnfW"
   },
   "source": [
    "# Saving the cleaned data"
   ]
  },
  {
   "cell_type": "code",
   "execution_count": null,
   "metadata": {
    "id": "nPR4uIZpQq1V"
   },
   "outputs": [],
   "source": [
    "#Energy\n",
    "modified_re.to_csv(\"Residential_Energy.csv\")\n",
    "modified_se.to_csv(\"Services_Energy.csv\")\n",
    "modified_ie.to_csv(\"Industrial_Energy.csv\")\n",
    "modified_te.to_csv(\"Transport_Energy.csv\")\n",
    "\n",
    "#Emissions\n",
    "modified_rems.to_csv(\"Residential_Emissions.csv\")\n",
    "modified_sems.to_csv(\"Services_Emissions.csv\")\n",
    "modified_iems.to_csv(\"Industrial_Emissions.csv\")\n",
    "modified_tems.to_csv(\"Transport_Emissions.csv\")\n",
    "\n",
    "#Energy Indicators\n",
    "modified_rei.to_csv(\"Residential_Energy_Indicators.csv\")\n",
    "modified_sei.to_csv(\"Services_Energy_Indicators.csv\")\n",
    "modified_iei.to_csv(\"Industrial_Energy_Indicators.csv\")\n",
    "modified_tei.to_csv(\"Transport_Energy_Indicators.csv\")\n",
    "\n",
    "#Carbon Indicators\n",
    "modified_rci.to_csv(\"Residential_Carbon_Indicators.csv\")\n",
    "modified_sci.to_csv(\"Services_Carbon_Indicators.csv\")\n",
    "modified_ici.to_csv(\"Industrial_Carbon_Indicators.csv\")\n",
    "modified_tci.to_csv(\"Transport_Carbon_Indicators.csv\")"
   ]
  },
  {
   "cell_type": "code",
   "execution_count": null,
   "metadata": {
    "id": "zCOJm9m2ShQY"
   },
   "outputs": [],
   "source": []
  }
 ],
 "metadata": {
  "colab": {
   "provenance": []
  },
  "kernelspec": {
   "display_name": "Python 3 (ipykernel)",
   "language": "python",
   "name": "python3"
  },
  "language_info": {
   "codemirror_mode": {
    "name": "ipython",
    "version": 3
   },
   "file_extension": ".py",
   "mimetype": "text/x-python",
   "name": "python",
   "nbconvert_exporter": "python",
   "pygments_lexer": "ipython3",
   "version": "3.9.7"
  }
 },
 "nbformat": 4,
 "nbformat_minor": 1
}
